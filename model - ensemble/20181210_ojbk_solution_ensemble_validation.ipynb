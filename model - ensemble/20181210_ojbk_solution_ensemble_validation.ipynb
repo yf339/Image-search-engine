{
 "cells": [
  {
   "cell_type": "code",
   "execution_count": 110,
   "metadata": {},
   "outputs": [],
   "source": [
    "import numpy as np\n",
    "import pickle\n",
    "import random\n",
    "from sklearn.metrics import pairwise_distances\n",
    "from sklearn.utils import shuffle\n",
    "from sklearn.linear_model import Ridge\n",
    "import warnings\n",
    "warnings.filterwarnings('ignore')\n",
    "\n",
    "work_dir = '/Users/ronghao/Mirror/Cornell-Tech/2018-Fa-Course/CS-5785/Homework/Final/'\n",
    "data_dir = work_dir + 'all/'"
   ]
  },
  {
   "cell_type": "code",
   "execution_count": 31,
   "metadata": {},
   "outputs": [],
   "source": [
    "num_train = 8000; num_dev = 2000; num_test = 2000"
   ]
  },
  {
   "cell_type": "code",
   "execution_count": 6,
   "metadata": {},
   "outputs": [],
   "source": [
    "# Models['ridge']['X']['Y'][rand_state] = (train_score, dev_score, model)\n",
    "Models = pickle.load(open(work_dir + \"modeldata/Models_train_dev_score.p\", \"rb\"))"
   ]
  },
  {
   "cell_type": "code",
   "execution_count": 79,
   "metadata": {},
   "outputs": [],
   "source": [
    "KNN_Models = pickle.load(open(work_dir + \"modeldata/KNN_dev_score_model.p\", \"rb\"))"
   ]
  },
  {
   "cell_type": "code",
   "execution_count": 34,
   "metadata": {},
   "outputs": [],
   "source": [
    "X_dict = pickle.load(open(work_dir + \"modeldata/X_dict.p\", \"rb\"))\n",
    "Y_dict = pickle.load(open(work_dir + \"modeldata/Y_dict.p\", \"rb\"))"
   ]
  },
  {
   "cell_type": "code",
   "execution_count": 19,
   "metadata": {},
   "outputs": [],
   "source": [
    "dist_discount_dev_dict = pickle.load(open(work_dir + \"modeldata/dist_discount_dev_dict.p\", \"rb\"))\n",
    "dist_discount_test = pickle.load(open(work_dir + \"modeldata/dist_discount_test.p\", \"rb\"))"
   ]
  },
  {
   "cell_type": "code",
   "execution_count": 7,
   "metadata": {},
   "outputs": [],
   "source": [
    "X_data = ['only_fc', 'only_pool']#, 'fc_pool'\n",
    "Y_data = ['full_w2v_mean', 'n_full_w2v_mean', 'a_full_w2v_mean', 'v_full_w2v_mean',\\\n",
    "                          'n_top800_w2v_mean', 'a_top400_w2v_mean', 'v_top400_w2v_mean',\\\n",
    "                          'n_top400_w2v_mean', 'a_top200_w2v_mean', 'v_top200_w2v_mean',\\\n",
    "         'full_bow', 'n_full_bow', 'a_full_bow', 'v_full_bow',\\\n",
    "                     'n_top800_bow', 'a_top400_bow', 'v_top400_bow',\\\n",
    "                     'n_top400_bow', 'a_top200_bow', 'v_top200_bow']"
   ]
  },
  {
   "cell_type": "code",
   "execution_count": 12,
   "metadata": {},
   "outputs": [],
   "source": [
    "# performance_by_train_score = []\n",
    "# for X_datakey in X_data:    \n",
    "#     for Y_datakey in Y_data:\n",
    "#         train_score = Models['ridge'][X_datakey][Y_datakey][0][0]\n",
    "#         dev_score = np.mean([Models['ridge'][X_datakey][Y_datakey][i][1] for i in range(4)])\n",
    "#         model = Models['ridge'][X_datakey][Y_datakey][0][2]\n",
    "#         performance_by_train_score.append((train_score, dev_score, X_datakey, Y_datakey, model))\n",
    "# performance_by_train_score = sorted(performance_by_train_score, reverse=True)\n",
    "\n",
    "# performance_by_dev_score = []\n",
    "# for X_datakey in X_data:    \n",
    "#     for Y_datakey in Y_data:\n",
    "#         train_score = Models['ridge'][X_datakey][Y_datakey][0][0]\n",
    "#         dev_score = np.mean([Models['ridge'][X_datakey][Y_datakey][i][1] for i in range(4)])\n",
    "#         model = Models['ridge'][X_datakey][Y_datakey][0][2]\n",
    "#         performance_by_dev_score.append((dev_score, train_score, X_datakey, Y_datakey, model))\n",
    "# performance_by_dev_score = sorted(performance_by_dev_score, reverse=True)\n",
    "\n",
    "# Ridge models\n",
    "performance_by_dev_score = []\n",
    "for X_datakey in X_data:    \n",
    "    for Y_datakey in Y_data:\n",
    "        train_score = Models['ridge'][X_datakey][Y_datakey][0][0]\n",
    "        dev_score = np.mean([Models['ridge'][X_datakey][Y_datakey][i][1] for i in range(4)])\n",
    "        model = Models['ridge'][X_datakey][Y_datakey][0][2]\n",
    "        performance_by_dev_score.append((dev_score, X_datakey, Y_datakey, model))\n",
    "performance_by_dev_score = sorted(performance_by_dev_score, reverse=True)"
   ]
  },
  {
   "cell_type": "code",
   "execution_count": 78,
   "metadata": {},
   "outputs": [],
   "source": [
    "X_effective_data = ['only_fc', 'only_pool']#, 'fc_pool'\n",
    "Y_effective_data = ['full_w2v_mean', 'n_full_w2v_mean', 'a_full_w2v_mean', 'v_full_w2v_mean',\\\n",
    "                     'full_bow', 'n_full_bow', 'a_full_bow', 'v_full_bow']"
   ]
  },
  {
   "cell_type": "code",
   "execution_count": 80,
   "metadata": {},
   "outputs": [],
   "source": [
    "# KNN models\n",
    "knn_by_dev_score = []\n",
    "for X_datakey in X_effective_data:    \n",
    "    for Y_datakey in Y_effective_data:\n",
    "        dev_score = KNN_Models[X_datakey][Y_datakey][8][0]\n",
    "        knn_by_dev_score.append((dev_score, X_datakey, Y_datakey))\n",
    "knn_by_dev_score = sorted(knn_by_dev_score, reverse=True)"
   ]
  },
  {
   "cell_type": "code",
   "execution_count": 142,
   "metadata": {},
   "outputs": [
    {
     "name": "stdout",
     "output_type": "stream",
     "text": [
      "0.31789083859681766 only_pool full_w2v_mean\n",
      "0.3160623626158843 only_pool n_full_bow\n",
      "0.31089521510803436 only_fc n_full_bow\n",
      "0.3101287697177693 only_pool n_full_w2v_mean\n",
      "0.30958673027071826 only_fc full_w2v_mean\n",
      "0.3053516074321705 only_pool full_bow\n",
      "0.3010714493259578 only_fc n_full_w2v_mean\n",
      "0.29465637998912 only_fc full_bow\n",
      "0.151210206062857 only_pool v_full_bow\n",
      "0.15055249527519265 only_fc v_full_bow\n",
      "0.13962289670146674 only_pool a_full_bow\n",
      "0.13737618369332766 only_pool v_full_w2v_mean\n",
      "0.13665205614603837 only_fc v_full_w2v_mean\n",
      "0.12952267274886275 only_fc a_full_bow\n",
      "0.10696290761719361 only_pool a_full_w2v_mean\n",
      "0.10560497086118217 only_fc a_full_w2v_mean\n"
     ]
    }
   ],
   "source": [
    "for i in knn_by_dev_score:\n",
    "    print(i[0]/2, i[1], i[2])"
   ]
  },
  {
   "cell_type": "markdown",
   "metadata": {},
   "source": [
    "### Load full data model"
   ]
  },
  {
   "cell_type": "code",
   "execution_count": 81,
   "metadata": {},
   "outputs": [],
   "source": [
    "Ridge_all_data_Models = pickle.load(open(work_dir + \"modeldata/Ridge_all_data_model.p\", \"rb\"))\n",
    "KNN_all_data_Models = pickle.load(open(work_dir + \"modeldata/KNN_all_data_Models.p\", \"rb\"))"
   ]
  },
  {
   "cell_type": "code",
   "execution_count": 93,
   "metadata": {},
   "outputs": [],
   "source": [
    "Ridge_dev_score_full_model = []\n",
    "for t in performance_by_dev_score:\n",
    "    if t[3] in Y_effective_data:\n",
    "        Ridge_dev_score_full_model.append((t[0], t[2], t[3], Ridge_all_data_Models[t[2]][t[3]]))"
   ]
  },
  {
   "cell_type": "code",
   "execution_count": 92,
   "metadata": {},
   "outputs": [],
   "source": [
    "KNN_dev_score_full_model = []\n",
    "for t in knn_by_dev_score:\n",
    "    KNN_dev_score_full_model.append((t[0], t[1], t[2], KNN_all_data_Models[t[1]][t[2]]))"
   ]
  },
  {
   "cell_type": "markdown",
   "metadata": {},
   "source": [
    "### Ensemble"
   ]
  },
  {
   "cell_type": "code",
   "execution_count": 43,
   "metadata": {},
   "outputs": [],
   "source": [
    "model_list = [t for t in performance_by_dev_score[:5]]"
   ]
  },
  {
   "cell_type": "code",
   "execution_count": 61,
   "metadata": {},
   "outputs": [],
   "source": [
    "model_list = performance_by_dev_score"
   ]
  },
  {
   "cell_type": "code",
   "execution_count": 60,
   "metadata": {
    "scrolled": true
   },
   "outputs": [
    {
     "data": {
      "text/plain": [
       "[0.3907993400970375,\n",
       " 0.38903846914233425,\n",
       " 0.38707619157212325,\n",
       " 0.38480804832422477,\n",
       " 0.3813549004497824,\n",
       " 0.3795985334094225,\n",
       " 0.37709139168741046,\n",
       " 0.37696643816817,\n",
       " 0.3765344810246513,\n",
       " 0.37293766316618965,\n",
       " 0.3720922219169075,\n",
       " 0.37117333721865936,\n",
       " 0.36779821729483103,\n",
       " 0.36255521148796593,\n",
       " 0.35856672361597375,\n",
       " 0.35230960827742946,\n",
       " 0.24246428876045267,\n",
       " 0.24219797290826217,\n",
       " 0.23790681025630717,\n",
       " 0.23736450038770568,\n",
       " 0.23239580213925223,\n",
       " 0.23213608145649073,\n",
       " 0.2070653651082105,\n",
       " 0.20477380510141735,\n",
       " 0.1975388718050096,\n",
       " 0.19623172827344654,\n",
       " 0.1952215479405785,\n",
       " 0.195192727247705,\n",
       " 0.19504650943580412,\n",
       " 0.19323517761102416,\n",
       " 0.192630013030163,\n",
       " 0.1907576535849127,\n",
       " 0.1905179114879144,\n",
       " 0.1904466008234971,\n",
       " 0.18970639488381844,\n",
       " 0.18950187926538545,\n",
       " 0.18919067022051733,\n",
       " 0.18585011640137897,\n",
       " 0.18262256765422397,\n",
       " 0.1807253007806607]"
      ]
     },
     "execution_count": 60,
     "metadata": {},
     "output_type": "execute_result"
    }
   ],
   "source": [
    "[i[0] for i in performance_by_dev_score]"
   ]
  },
  {
   "cell_type": "code",
   "execution_count": 65,
   "metadata": {},
   "outputs": [
    {
     "name": "stdout",
     "output_type": "stream",
     "text": [
      "test on state: 0\n"
     ]
    }
   ],
   "source": [
    "ensemble_results_on_state = {}\n",
    "\n",
    "for rand_state in range(1):\n",
    "    print('test on state:', rand_state)\n",
    "    ensemble_distance = np.zeros((2000,2000))\n",
    "    for model_keys in model_list:\n",
    "        x_train_dev = X_dict['train_dev'][model_keys[-3]]\n",
    "        y_train_dev = Y_dict['train_dev'][model_keys[-2]]\n",
    "        split_idx = list(range(num_train + num_dev))\n",
    "        split_idx = shuffle(split_idx, random_state=rand_state)\n",
    "        x_dev = x_train_dev[split_idx[num_train:]]\n",
    "        y_dev = y_train_dev[split_idx[num_train:]]\n",
    "        \n",
    "        y_dev_pred = model_keys[-1].predict(x_dev)\n",
    "        dev_distances_origin = pairwise_distances(y_dev, y_dev_pred)\n",
    "        ensemble_distance = ensemble_distance + dev_distances_origin * model_keys[0] * dist_discount_dev_dict[rand_state]\n",
    "    ensemble_distance = ensemble_distance\n",
    "        \n",
    "    dev_scores = []\n",
    "    dev_pos_list = []\n",
    "\n",
    "    for i in range(num_dev):\n",
    "        pred_dist_idx = list(np.argsort(ensemble_distance[i]))\n",
    "        dev_pos = pred_dist_idx.index(i)\n",
    "        dev_pos_list.append(dev_pos)\n",
    "        if dev_pos < 20:\n",
    "            dev_scores.append(1 / (dev_pos + 1))\n",
    "        else:\n",
    "            dev_scores.append(0.0)\n",
    "    ensemble_results_on_state[rand_state] = np.mean(dev_scores)"
   ]
  },
  {
   "cell_type": "code",
   "execution_count": 66,
   "metadata": {},
   "outputs": [
    {
     "data": {
      "text/plain": [
       "{0: 0.40570115230057185}"
      ]
     },
     "execution_count": 66,
     "metadata": {},
     "output_type": "execute_result"
    }
   ],
   "source": [
    "ensemble_results_on_state"
   ]
  },
  {
   "cell_type": "markdown",
   "metadata": {},
   "source": [
    "### Collect all the test distance matrix with dev score"
   ]
  },
  {
   "cell_type": "code",
   "execution_count": 100,
   "metadata": {},
   "outputs": [],
   "source": [
    "test_distance_model_score = []"
   ]
  },
  {
   "cell_type": "code",
   "execution_count": 101,
   "metadata": {},
   "outputs": [
    {
     "name": "stdout",
     "output_type": "stream",
     "text": [
      "0.6357816771936353 KNN only_pool full_w2v_mean\n",
      "0.6321247252317685 KNN only_pool n_full_bow\n",
      "0.6217904302160687 KNN only_fc n_full_bow\n",
      "0.6202575394355386 KNN only_pool n_full_w2v_mean\n",
      "0.6191734605414365 KNN only_fc full_w2v_mean\n",
      "0.610703214864341 KNN only_pool full_bow\n",
      "0.6021428986519156 KNN only_fc n_full_w2v_mean\n",
      "0.58931275997824 KNN only_fc full_bow\n",
      "0.302420412125714 KNN only_pool v_full_bow\n",
      "0.3011049905503853 KNN only_fc v_full_bow\n",
      "0.2792457934029335 KNN only_pool a_full_bow\n",
      "0.2747523673866553 KNN only_pool v_full_w2v_mean\n",
      "0.27330411229207674 KNN only_fc v_full_w2v_mean\n",
      "0.2590453454977255 KNN only_fc a_full_bow\n",
      "0.21392581523438722 KNN only_pool a_full_w2v_mean\n",
      "0.21120994172236435 KNN only_fc a_full_w2v_mean\n"
     ]
    }
   ],
   "source": [
    "for model_keys in KNN_dev_score_full_model:\n",
    "    print(model_keys[0], 'KNN', model_keys[1], model_keys[2])\n",
    "    x_test = X_dict['test'][model_keys[1]]\n",
    "    y_test = Y_dict['test'][model_keys[2]]\n",
    "    y_test_pred = model_keys[-1].predict(x_test)\n",
    "    test_distances_origin = pairwise_distances(y_test, y_test_pred)\n",
    "    test_distance_model_score.append((model_keys[0], 'KNN', model_keys[1], model_keys[2], test_distances_origin))"
   ]
  },
  {
   "cell_type": "code",
   "execution_count": 102,
   "metadata": {},
   "outputs": [],
   "source": [
    "pickle.dump(test_distance_model_score, open(work_dir + \"modeldata/test_distance_model_score.p\", \"wb\"))"
   ]
  },
  {
   "cell_type": "code",
   "execution_count": 103,
   "metadata": {},
   "outputs": [
    {
     "name": "stdout",
     "output_type": "stream",
     "text": [
      "0.3907993400970375 Ridge only_pool n_full_bow\n",
      "0.38707619157212325 Ridge only_pool full_bow\n",
      "0.38480804832422477 Ridge only_pool full_w2v_mean\n",
      "0.3813549004497824 Ridge only_pool n_full_w2v_mean\n",
      "0.37709139168741046 Ridge only_fc n_full_bow\n",
      "0.37696643816817 Ridge only_fc full_bow\n",
      "0.37293766316618965 Ridge only_fc full_w2v_mean\n",
      "0.3720922219169075 Ridge only_fc n_full_w2v_mean\n",
      "0.24246428876045267 Ridge only_pool a_full_bow\n",
      "0.24219797290826217 Ridge only_fc a_full_bow\n",
      "0.2070653651082105 Ridge only_fc a_full_w2v_mean\n",
      "0.20477380510141735 Ridge only_pool a_full_w2v_mean\n",
      "0.1975388718050096 Ridge only_pool v_full_bow\n",
      "0.19504650943580412 Ridge only_pool v_full_w2v_mean\n",
      "0.19323517761102416 Ridge only_fc v_full_w2v_mean\n",
      "0.192630013030163 Ridge only_fc v_full_bow\n"
     ]
    }
   ],
   "source": [
    "for model_keys in Ridge_dev_score_full_model:\n",
    "    print(model_keys[0], 'Ridge', model_keys[1], model_keys[2])\n",
    "    x_test = X_dict['test'][model_keys[1]]\n",
    "    y_test = Y_dict['test'][model_keys[2]]\n",
    "    y_test_pred = model_keys[-1].predict(x_test)\n",
    "    test_distances_origin = pairwise_distances(y_test, y_test_pred)\n",
    "    test_distance_model_score.append((model_keys[0], 'Ridge', model_keys[1], model_keys[2], test_distances_origin))"
   ]
  },
  {
   "cell_type": "code",
   "execution_count": 106,
   "metadata": {},
   "outputs": [],
   "source": [
    "# for i in range(len(test_distance_model_score)):\n",
    "#     if test_distance_model_score[i][1] == 'KNN':\n",
    "#         test_distance_model_score[i] = (test_distance_model_score[i][0]/2, test_distance_model_score[i][1],\\\n",
    "#                                        test_distance_model_score[i][2], test_distance_model_score[i][3],\\\n",
    "#                                        test_distance_model_score[i][4])"
   ]
  },
  {
   "cell_type": "code",
   "execution_count": 108,
   "metadata": {},
   "outputs": [],
   "source": [
    "pickle.dump(test_distance_model_score, open(work_dir + \"modeldata/test_distance_model_score.p\", \"wb\"))"
   ]
  },
  {
   "cell_type": "markdown",
   "metadata": {},
   "source": [
    "### Combination Output on test"
   ]
  },
  {
   "cell_type": "code",
   "execution_count": 127,
   "metadata": {},
   "outputs": [
    {
     "name": "stdout",
     "output_type": "stream",
     "text": [
      "20-31-2-28-26\n",
      "20-27-8-12-25-4\n",
      "4-29-2-9-5\n",
      "0-11-27-6-14-29-19\n",
      "12-18-22-25-15-23-19-16-11\n",
      "19-27-15-13-21-30-2-6-26-1\n",
      "26-7-8-10-11-18\n",
      "2-18-21-5-17-22-16-6-19\n",
      "27-19-25-22-30-16-4-11\n",
      "20-27-5-2-10-21-3\n",
      "2-23-26-13-22-6-25-15-14\n",
      "12-0-28-5-9-27-20-3-4\n",
      "12-4-18-3-21\n",
      "9-31-27-25-21-26-6-5-24-19\n",
      "7-27-19-30-21-6-23-2-29-12\n",
      "6-0-31-15-17-22\n",
      "30-16-28-5-1-26\n",
      "3-16-18-5-23\n",
      "30-23-20-11-21-3\n"
     ]
    }
   ],
   "source": [
    "for t in range(19):\n",
    "    n = random.randint(5, 10)\n",
    "    idx = list(range(len(test_distance_model_score)))\n",
    "    idx = shuffle(idx)\n",
    "    print('-'.join([str(i) for i in idx[:n]]))"
   ]
  },
  {
   "cell_type": "code",
   "execution_count": 128,
   "metadata": {},
   "outputs": [
    {
     "name": "stdout",
     "output_type": "stream",
     "text": [
      "Output written!\n",
      "Output written!\n",
      "Output written!\n",
      "Output written!\n",
      "Output written!\n",
      "Output written!\n",
      "Output written!\n",
      "Output written!\n",
      "Output written!\n",
      "Output written!\n",
      "Output written!\n",
      "Output written!\n",
      "Output written!\n",
      "Output written!\n",
      "Output written!\n",
      "Output written!\n",
      "Output written!\n",
      "Output written!\n",
      "Output written!\n"
     ]
    }
   ],
   "source": [
    "for t in range(19):\n",
    "    n = random.randint(5, 10)\n",
    "    idx = list(range(len(test_distance_model_score)))\n",
    "    idx = shuffle(idx)\n",
    "    ensemble_test_distance = np.zeros((2000,2000))\n",
    "    for i in idx[:n]:\n",
    "        ensemble_test_distance = ensemble_test_distance +\\\n",
    "                            test_distance_model_score[i][-1]*test_distance_model_score[i][0]\n",
    "    ensemble_test_distance = ensemble_test_distance * dist_discount_test\n",
    "    pred_rows = []\n",
    "\n",
    "    for i in range(num_test):\n",
    "        test_dist_idx = list(np.argsort(ensemble_test_distance[i]))\n",
    "        top_20 = test_dist_idx[:20]\n",
    "        row = [\"%d.jpg\" % i for i in test_dist_idx[:20]]\n",
    "        pred_rows.append(\" \".join(row))\n",
    "\n",
    "    with open(\"random/ensemble_\"+'-'.join([str(i) for i in idx[:n]])+\"_submission.csv\", \"w\") as f:\n",
    "        f.write(\"Descritpion_ID,Top_20_Image_IDs\\n\")\n",
    "        for i, row in enumerate(pred_rows):\n",
    "            f.write(\"%d.txt,%s\\n\" % (i, row))\n",
    "\n",
    "    print(\"Output written!\")"
   ]
  },
  {
   "cell_type": "code",
   "execution_count": 131,
   "metadata": {},
   "outputs": [],
   "source": [
    "model_list = test_distance_model_score"
   ]
  },
  {
   "cell_type": "code",
   "execution_count": 138,
   "metadata": {},
   "outputs": [
    {
     "name": "stdout",
     "output_type": "stream",
     "text": [
      "Output written!\n"
     ]
    }
   ],
   "source": [
    "ensemble_test_distance = np.zeros((2000,2000))\n",
    "for model_keys in model_list:\n",
    "    ensemble_test_distance = ensemble_test_distance + model_keys[-1]*(model_keys[0])**2.5\n",
    "ensemble_test_distance = ensemble_test_distance * dist_discount_test**0.8\n",
    "pred_rows = []\n",
    "\n",
    "for i in range(num_test):\n",
    "    test_dist_idx = list(np.argsort(ensemble_test_distance[i]))\n",
    "    top_20 = test_dist_idx[:20]\n",
    "    row = [\"%d.jpg\" % i for i in test_dist_idx[:20]]\n",
    "    pred_rows.append(\" \".join(row))\n",
    "\n",
    "with open(\"ensemble_KNN_Ridge_ALL_2508_submission.csv\", \"w\") as f:\n",
    "    f.write(\"Descritpion_ID,Top_20_Image_IDs\\n\")\n",
    "    for i, row in enumerate(pred_rows):\n",
    "        f.write(\"%d.txt,%s\\n\" % (i, row))\n",
    "\n",
    "print(\"Output written!\")"
   ]
  },
  {
   "cell_type": "markdown",
   "metadata": {},
   "source": [
    "### Naive Output on test"
   ]
  },
  {
   "cell_type": "code",
   "execution_count": 94,
   "metadata": {},
   "outputs": [],
   "source": [
    "model_list = KNN_dev_score_full_model[:5]"
   ]
  },
  {
   "cell_type": "code",
   "execution_count": null,
   "metadata": {},
   "outputs": [],
   "source": []
  },
  {
   "cell_type": "code",
   "execution_count": 129,
   "metadata": {},
   "outputs": [],
   "source": []
  },
  {
   "cell_type": "code",
   "execution_count": 96,
   "metadata": {},
   "outputs": [
    {
     "name": "stdout",
     "output_type": "stream",
     "text": [
      "a\n",
      "a\n",
      "a\n",
      "a\n",
      "a\n",
      "Output written!\n"
     ]
    }
   ],
   "source": [
    "ensemble_test_distance = np.zeros((2000,2000))\n",
    "for model_keys in model_list:\n",
    "    print('a')\n",
    "    x_test = X_dict['test'][model_keys[-3]]\n",
    "    y_test = Y_dict['test'][model_keys[-2]]\n",
    "    y_test_pred = model_keys[-1].predict(x_test)\n",
    "    test_distances_origin = pairwise_distances(y_test, y_test_pred)\n",
    "    ensemble_test_distance = ensemble_test_distance + test_distances_origin * model_keys[0]\n",
    "ensemble_test_distance = ensemble_test_distance * dist_discount_test\n",
    "\n",
    "pred_rows = []\n",
    "\n",
    "for i in range(num_test):\n",
    "    test_dist_idx = list(np.argsort(ensemble_test_distance[i]))\n",
    "    top_20 = test_dist_idx[:20]\n",
    "    row = [\"%d.jpg\" % i for i in test_dist_idx[:20]]\n",
    "    pred_rows.append(\" \".join(row))\n",
    "\n",
    "with open(\"ensemble_discount_top_8NN_submission.csv\", \"w\") as f:\n",
    "    f.write(\"Descritpion_ID,Top_20_Image_IDs\\n\")\n",
    "    for i, row in enumerate(pred_rows):\n",
    "        f.write(\"%d.txt,%s\\n\" % (i, row))\n",
    "\n",
    "print(\"Output written!\")"
   ]
  },
  {
   "cell_type": "code",
   "execution_count": null,
   "metadata": {},
   "outputs": [],
   "source": [
    "top_5_8NN_dist = ensemble_test_distance"
   ]
  },
  {
   "cell_type": "code",
   "execution_count": null,
   "metadata": {},
   "outputs": [],
   "source": []
  }
 ],
 "metadata": {
  "kernelspec": {
   "display_name": "Python 3",
   "language": "python",
   "name": "python3"
  },
  "language_info": {
   "codemirror_mode": {
    "name": "ipython",
    "version": 3
   },
   "file_extension": ".py",
   "mimetype": "text/x-python",
   "name": "python",
   "nbconvert_exporter": "python",
   "pygments_lexer": "ipython3",
   "version": "3.7.0"
  }
 },
 "nbformat": 4,
 "nbformat_minor": 2
}
