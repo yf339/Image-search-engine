{
 "cells": [
  {
   "cell_type": "markdown",
   "metadata": {},
   "source": [
    "### 0. First load libraries, define train/test split"
   ]
  },
  {
   "cell_type": "code",
   "execution_count": 14,
   "metadata": {},
   "outputs": [],
   "source": [
    "import numpy as np\n",
    "import pickle\n",
    "import csv\n",
    "import seaborn\n",
    "from sklearn.model_selection import GridSearchCV\n",
    "from sklearn.metrics import pairwise_distances\n",
    "from sklearn.utils import shuffle\n",
    "from sklearn.linear_model import Ridge\n",
    "from sklearn.neighbors import KNeighborsRegressor\n",
    "import warnings\n",
    "warnings.filterwarnings('ignore')\n",
    "\n",
    "work_dir = '/Users/ronghao/Mirror/Cornell-Tech/2018-Fa-Course/CS-5785/Homework/Final/'\n",
    "data_dir = work_dir + 'all/'"
   ]
  },
  {
   "cell_type": "code",
   "execution_count": 11,
   "metadata": {},
   "outputs": [],
   "source": [
    "# train score does not use discount, dev_dist_mat is pre-discounted, dev_score use discount\n",
    "Models = {} # Models['ridge']['X']['Y'][rand_state] = (train_score, dev_score, model)\n",
    "Models['ridge'] = {}\n",
    "\n",
    "Test_Result = {} # Test_Result['ridge']['X']['Y'] = (test_score, test_dist_mat_origin)\n",
    "Test_Result['ridge'] = {}"
   ]
  },
  {
   "cell_type": "code",
   "execution_count": 3,
   "metadata": {},
   "outputs": [],
   "source": [
    "dist_discount_dev_dict = pickle.load(open(work_dir + \"modeldata/dist_discount_dev_dict.p\", \"rb\"))\n",
    "dist_discount_test = pickle.load(open(work_dir + \"modeldata/dist_discount_test.p\", \"rb\"))"
   ]
  },
  {
   "cell_type": "code",
   "execution_count": 4,
   "metadata": {},
   "outputs": [],
   "source": [
    "X_dict = pickle.load(open(work_dir + \"modeldata/X_dict.p\", \"rb\"))\n",
    "Y_dict = pickle.load(open(work_dir + \"modeldata/Y_dict.p\", \"rb\"))"
   ]
  },
  {
   "cell_type": "code",
   "execution_count": 5,
   "metadata": {},
   "outputs": [],
   "source": [
    "X_data = ['only_fc', 'only_pool']#, 'fc_pool'\n",
    "Y_data = ['full_w2v_mean', 'n_full_w2v_mean', 'a_full_w2v_mean', 'v_full_w2v_mean',\\\n",
    "                          'n_top800_w2v_mean', 'a_top400_w2v_mean', 'v_top400_w2v_mean',\\\n",
    "                          'n_top400_w2v_mean', 'a_top200_w2v_mean', 'v_top200_w2v_mean',\\\n",
    "         'full_bow', 'n_full_bow', 'a_full_bow', 'v_full_bow',\\\n",
    "                     'n_top800_bow', 'a_top400_bow', 'v_top400_bow',\\\n",
    "                     'n_top400_bow', 'a_top200_bow', 'v_top200_bow']\n",
    "\n",
    "# X_datakey = 'only_pool'\n",
    "# x_train_dev = X_dict['train_dev'][X_datakey]\n",
    "# x_test = X_dict['test'][X_datakey]\n",
    "\n",
    "# Y_datakey = 'full_w2v_mean'\n",
    "# y_train_dev = Y_dict['train_dev'][Y_datakey]\n",
    "# y_test = Y_dict['test'][Y_datakey]"
   ]
  },
  {
   "cell_type": "markdown",
   "metadata": {},
   "source": [
    "# Data Sanity Check"
   ]
  },
  {
   "cell_type": "code",
   "execution_count": 6,
   "metadata": {},
   "outputs": [
    {
     "name": "stdout",
     "output_type": "stream",
     "text": [
      "(10000, 1000)\n",
      "(2000, 1000)\n",
      "(10000, 2048)\n",
      "(2000, 2048)\n"
     ]
    }
   ],
   "source": [
    "for X_datakey in X_data:\n",
    "    print(X_dict['train_dev'][X_datakey].shape)\n",
    "    print(X_dict['test'][X_datakey].shape)"
   ]
  },
  {
   "cell_type": "code",
   "execution_count": 7,
   "metadata": {},
   "outputs": [
    {
     "name": "stdout",
     "output_type": "stream",
     "text": [
      "(10000, 300)\n",
      "(2000, 300)\n",
      "(10000, 300)\n",
      "(2000, 300)\n",
      "(10000, 300)\n",
      "(2000, 300)\n",
      "(10000, 300)\n",
      "(2000, 300)\n",
      "(10000, 300)\n",
      "(2000, 300)\n",
      "(10000, 300)\n",
      "(2000, 300)\n",
      "(10000, 300)\n",
      "(2000, 300)\n",
      "(10000, 300)\n",
      "(2000, 300)\n",
      "(10000, 300)\n",
      "(2000, 300)\n",
      "(10000, 300)\n",
      "(2000, 300)\n",
      "(10000, 3995)\n",
      "(2000, 3995)\n",
      "(10000, 5312)\n",
      "(2000, 5312)\n",
      "(10000, 2381)\n",
      "(2000, 2381)\n",
      "(10000, 2011)\n",
      "(2000, 2011)\n",
      "(10000, 801)\n",
      "(2000, 801)\n",
      "(10000, 400)\n",
      "(2000, 400)\n",
      "(10000, 400)\n",
      "(2000, 400)\n",
      "(10000, 401)\n",
      "(2000, 401)\n",
      "(10000, 200)\n",
      "(2000, 200)\n",
      "(10000, 200)\n",
      "(2000, 200)\n"
     ]
    }
   ],
   "source": [
    "for Y_datakey in Y_data:\n",
    "    # print(Y_datakey)\n",
    "    print(Y_dict['train_dev'][Y_datakey].shape)\n",
    "    print(Y_dict['test'][Y_datakey].shape)"
   ]
  },
  {
   "cell_type": "markdown",
   "metadata": {},
   "source": [
    "# Mega For Loop - Ridge Regression"
   ]
  },
  {
   "cell_type": "code",
   "execution_count": 29,
   "metadata": {},
   "outputs": [],
   "source": [
    "# X_data = ['only_fc']\n",
    "# Y_data = ['full_bow']"
   ]
  },
  {
   "cell_type": "code",
   "execution_count": 8,
   "metadata": {},
   "outputs": [],
   "source": [
    "num_train = 8000; num_dev = 2000; num_test = 2000"
   ]
  },
  {
   "cell_type": "code",
   "execution_count": 12,
   "metadata": {},
   "outputs": [
    {
     "name": "stdout",
     "output_type": "stream",
     "text": [
      "only_fc full_w2v_mean rand: 0\n",
      "train_score: 0.2931911674947859 dev_score 0.3672348454800273\n",
      "only_fc full_w2v_mean rand: 1\n",
      "train_score: 0 dev_score 0.3773244888947481\n",
      "only_fc full_w2v_mean rand: 2\n",
      "train_score: 0 dev_score 0.3757950045031508\n",
      "only_fc full_w2v_mean rand: 3\n",
      "train_score: 0 dev_score 0.37139631378683235\n",
      "only_fc n_full_w2v_mean rand: 0\n",
      "train_score: 0.3133915566395249 dev_score 0.3765459752128676\n",
      "only_fc n_full_w2v_mean rand: 1\n",
      "train_score: 0 dev_score 0.37683300207059883\n",
      "only_fc n_full_w2v_mean rand: 2\n",
      "train_score: 0 dev_score 0.37000333269456726\n",
      "only_fc n_full_w2v_mean rand: 3\n",
      "train_score: 0 dev_score 0.36498657768959625\n",
      "only_fc a_full_w2v_mean rand: 0\n",
      "train_score: 0.09961369453720943 dev_score 0.20188934014257157\n",
      "only_fc a_full_w2v_mean rand: 1\n",
      "train_score: 0 dev_score 0.2067942527072171\n",
      "only_fc a_full_w2v_mean rand: 2\n",
      "train_score: 0 dev_score 0.20801152581938187\n",
      "only_fc a_full_w2v_mean rand: 3\n",
      "train_score: 0 dev_score 0.21156634176367148\n",
      "only_fc v_full_w2v_mean rand: 0\n",
      "train_score: 0.0917379492674723 dev_score 0.1882771139593121\n",
      "only_fc v_full_w2v_mean rand: 1\n",
      "train_score: 0 dev_score 0.18933288590279687\n",
      "only_fc v_full_w2v_mean rand: 2\n",
      "train_score: 0 dev_score 0.19349679249414156\n",
      "only_fc v_full_w2v_mean rand: 3\n",
      "train_score: 0 dev_score 0.20183391808784612\n",
      "only_fc n_top800_w2v_mean rand: 0\n",
      "train_score: 0.29130897195823185 dev_score 0.36534499007614335\n",
      "only_fc n_top800_w2v_mean rand: 1\n",
      "train_score: 0 dev_score 0.3676369581914473\n",
      "only_fc n_top800_w2v_mean rand: 2\n",
      "train_score: 0 dev_score 0.35952353575646917\n",
      "only_fc n_top800_w2v_mean rand: 3\n",
      "train_score: 0 dev_score 0.3577153619278039\n",
      "only_fc a_top400_w2v_mean rand: 0\n",
      "train_score: 0.07247191318367305 dev_score 0.1960876577649217\n",
      "only_fc a_top400_w2v_mean rand: 1\n",
      "train_score: 0 dev_score 0.1903647052100806\n",
      "only_fc a_top400_w2v_mean rand: 2\n",
      "train_score: 0 dev_score 0.1958463379435322\n",
      "only_fc a_top400_w2v_mean rand: 3\n",
      "train_score: 0 dev_score 0.20262821217525165\n",
      "only_fc v_top400_w2v_mean rand: 0\n",
      "train_score: 0.07706163317837564 dev_score 0.18351306814745283\n",
      "only_fc v_top400_w2v_mean rand: 1\n",
      "train_score: 0 dev_score 0.1855875658934289\n",
      "only_fc v_top400_w2v_mean rand: 2\n",
      "train_score: 0 dev_score 0.1915334970241317\n",
      "only_fc v_top400_w2v_mean rand: 3\n",
      "train_score: 0 dev_score 0.19612854981705602\n",
      "only_fc n_top400_w2v_mean rand: 0\n",
      "train_score: 0.26075943614993535 dev_score 0.3539103983327474\n",
      "only_fc n_top400_w2v_mean rand: 1\n",
      "train_score: 0 dev_score 0.35187016388109654\n",
      "only_fc n_top400_w2v_mean rand: 2\n",
      "train_score: 0 dev_score 0.34840566879371054\n",
      "only_fc n_top400_w2v_mean rand: 3\n",
      "train_score: 0 dev_score 0.3550522021021634\n",
      "only_fc a_top200_w2v_mean rand: 0\n",
      "train_score: 0.05993333209510647 dev_score 0.192263808068007\n",
      "only_fc a_top200_w2v_mean rand: 1\n",
      "train_score: 0 dev_score 0.18122704963595054\n",
      "only_fc a_top200_w2v_mean rand: 2\n",
      "train_score: 0 dev_score 0.19346978741717522\n",
      "only_fc a_top200_w2v_mean rand: 3\n",
      "train_score: 0 dev_score 0.19511100083052482\n",
      "only_fc v_top200_w2v_mean rand: 0\n",
      "train_score: 0.061387076735291715 dev_score 0.1801889039022553\n",
      "only_fc v_top200_w2v_mean rand: 1\n",
      "train_score: 0 dev_score 0.1799450789750325\n",
      "only_fc v_top200_w2v_mean rand: 2\n",
      "train_score: 0 dev_score 0.18284995053106506\n",
      "only_fc v_top200_w2v_mean rand: 3\n",
      "train_score: 0 dev_score 0.1875063372085431\n",
      "only_fc full_bow rand: 0\n",
      "train_score: 0.48742759629807325 dev_score 0.36216435113089523\n",
      "only_fc full_bow rand: 1\n",
      "train_score: 0 dev_score 0.3787090326748415\n",
      "only_fc full_bow rand: 2\n",
      "train_score: 0 dev_score 0.38354257917435164\n",
      "only_fc full_bow rand: 3\n",
      "train_score: 0 dev_score 0.38344978969259147\n",
      "only_fc n_full_bow rand: 0\n",
      "train_score: 0.5911370677122371 dev_score 0.3716649030621941\n",
      "only_fc n_full_bow rand: 1\n",
      "train_score: 0 dev_score 0.3754033765769834\n",
      "only_fc n_full_bow rand: 2\n",
      "train_score: 0 dev_score 0.3863865889141818\n",
      "only_fc n_full_bow rand: 3\n",
      "train_score: 0 dev_score 0.37491069819628253\n",
      "only_fc a_full_bow rand: 0\n",
      "train_score: 0.1832761031930101 dev_score 0.23455807100106638\n",
      "only_fc a_full_bow rand: 1\n",
      "train_score: 0 dev_score 0.24315263235646364\n",
      "only_fc a_full_bow rand: 2\n",
      "train_score: 0 dev_score 0.25164317443177736\n",
      "only_fc a_full_bow rand: 3\n",
      "train_score: 0 dev_score 0.23943801384374136\n",
      "only_fc v_full_bow rand: 0\n",
      "train_score: 0.16715021105753983 dev_score 0.18608188453703162\n",
      "only_fc v_full_bow rand: 1\n",
      "train_score: 0 dev_score 0.19220968869666627\n",
      "only_fc v_full_bow rand: 2\n",
      "train_score: 0 dev_score 0.19700801205373575\n",
      "only_fc v_full_bow rand: 3\n",
      "train_score: 0 dev_score 0.1952204668332184\n",
      "only_fc n_top800_bow rand: 0\n",
      "train_score: 0.5171074633860722 dev_score 0.3752112991089578\n",
      "only_fc n_top800_bow rand: 1\n",
      "train_score: 0 dev_score 0.3745776813872402\n",
      "only_fc n_top800_bow rand: 2\n",
      "train_score: 0 dev_score 0.38514307377993523\n",
      "only_fc n_top800_bow rand: 3\n",
      "train_score: 0 dev_score 0.371205869822472\n",
      "only_fc a_top400_bow rand: 0\n",
      "train_score: 0.14670364286717325 dev_score 0.2311743917288422\n",
      "only_fc a_top400_bow rand: 1\n",
      "train_score: 0 dev_score 0.2380452774457225\n",
      "only_fc a_top400_bow rand: 2\n",
      "train_score: 0 dev_score 0.24574490170562152\n",
      "only_fc a_top400_bow rand: 3\n",
      "train_score: 0 dev_score 0.23449343067063655\n",
      "only_fc v_top400_bow rand: 0\n",
      "train_score: 0.13069193138464133 dev_score 0.18455725922039776\n",
      "only_fc v_top400_bow rand: 1\n",
      "train_score: 0 dev_score 0.18978037194788355\n",
      "only_fc v_top400_bow rand: 2\n",
      "train_score: 0 dev_score 0.19465664288411966\n",
      "only_fc v_top400_bow rand: 3\n",
      "train_score: 0 dev_score 0.19403634028724975\n",
      "only_fc n_top400_bow rand: 0\n",
      "train_score: 0.4371348499045673 dev_score 0.3628671632504063\n",
      "only_fc n_top400_bow rand: 1\n",
      "train_score: 0 dev_score 0.3672719928935873\n",
      "only_fc n_top400_bow rand: 2\n",
      "train_score: 0 dev_score 0.3759681869493595\n",
      "only_fc n_top400_bow rand: 3\n",
      "train_score: 0 dev_score 0.3650855260859711\n",
      "only_fc a_top200_bow rand: 0\n",
      "train_score: 0.12331820548947095 dev_score 0.22847217009856327\n",
      "only_fc a_top200_bow rand: 1\n",
      "train_score: 0 dev_score 0.23402914977394468\n",
      "only_fc a_top200_bow rand: 2\n",
      "train_score: 0 dev_score 0.23972049056679476\n",
      "only_fc a_top200_bow rand: 3\n",
      "train_score: 0 dev_score 0.2273613981177062\n",
      "only_fc v_top200_bow rand: 0\n",
      "train_score: 0.10424560357996407 dev_score 0.1790649135973246\n",
      "only_fc v_top200_bow rand: 1\n",
      "train_score: 0 dev_score 0.18431810288095118\n",
      "only_fc v_top200_bow rand: 2\n",
      "train_score: 0 dev_score 0.1923271545125841\n",
      "only_fc v_top200_bow rand: 3\n",
      "train_score: 0 dev_score 0.18769029461465606\n",
      "only_pool full_w2v_mean rand: 0\n",
      "train_score: 0.4568279089906266 dev_score 0.38259208099691844\n",
      "only_pool full_w2v_mean rand: 1\n",
      "train_score: 0 dev_score 0.38306862196111424\n",
      "only_pool full_w2v_mean rand: 2\n",
      "train_score: 0 dev_score 0.3891042911788074\n",
      "only_pool full_w2v_mean rand: 3\n",
      "train_score: 0 dev_score 0.384467199160059\n",
      "only_pool n_full_w2v_mean rand: 0\n",
      "train_score: 0.49926993241214407 dev_score 0.3845082938539788\n",
      "only_pool n_full_w2v_mean rand: 1\n",
      "train_score: 0 dev_score 0.38476418043385924\n",
      "only_pool n_full_w2v_mean rand: 2\n",
      "train_score: 0 dev_score 0.3777678582532878\n",
      "only_pool n_full_w2v_mean rand: 3\n",
      "train_score: 0 dev_score 0.37837926925800375\n",
      "only_pool a_full_w2v_mean rand: 0\n",
      "train_score: 0.18659910481943667 dev_score 0.19895551543829407\n",
      "only_pool a_full_w2v_mean rand: 1\n",
      "train_score: 0 dev_score 0.20169439249905582\n",
      "only_pool a_full_w2v_mean rand: 2\n",
      "train_score: 0 dev_score 0.20788073384948388\n",
      "only_pool a_full_w2v_mean rand: 3\n",
      "train_score: 0 dev_score 0.2105645786188356\n",
      "only_pool v_full_w2v_mean rand: 0\n",
      "train_score: 0.19123377071039127 dev_score 0.19278898678935447\n",
      "only_pool v_full_w2v_mean rand: 1\n",
      "train_score: 0 dev_score 0.19012827966666976\n",
      "only_pool v_full_w2v_mean rand: 2\n",
      "train_score: 0 dev_score 0.19399841835795784\n",
      "only_pool v_full_w2v_mean rand: 3\n",
      "train_score: 0 dev_score 0.20327035292923448\n",
      "only_pool n_top800_w2v_mean rand: 0\n",
      "train_score: 0.4585291941788217 dev_score 0.37217217162782174\n",
      "only_pool n_top800_w2v_mean rand: 1\n",
      "train_score: 0 dev_score 0.3758863581873063\n",
      "only_pool n_top800_w2v_mean rand: 2\n",
      "train_score: 0 dev_score 0.3685538994867362\n",
      "only_pool n_top800_w2v_mean rand: 3\n",
      "train_score: 0 dev_score 0.3680809195727733\n",
      "only_pool a_top400_w2v_mean rand: 0\n",
      "train_score: 0.1326231429142323 dev_score 0.19210190104872765\n",
      "only_pool a_top400_w2v_mean rand: 1\n",
      "train_score: 0 dev_score 0.19054341378865372\n",
      "only_pool a_top400_w2v_mean rand: 2\n"
     ]
    },
    {
     "name": "stdout",
     "output_type": "stream",
     "text": [
      "train_score: 0 dev_score 0.19645004064348107\n",
      "only_pool a_top400_w2v_mean rand: 3\n",
      "train_score: 0 dev_score 0.2017908362814516\n",
      "only_pool v_top400_w2v_mean rand: 0\n",
      "train_score: 0.1531347962758131 dev_score 0.1852729890444093\n",
      "only_pool v_top400_w2v_mean rand: 1\n",
      "train_score: 0 dev_score 0.1854144763346389\n",
      "only_pool v_top400_w2v_mean rand: 2\n",
      "train_score: 0 dev_score 0.19249160248076658\n",
      "only_pool v_top400_w2v_mean rand: 3\n",
      "train_score: 0 dev_score 0.19482844920172704\n",
      "only_pool n_top400_w2v_mean rand: 0\n",
      "train_score: 0.4111224838344275 dev_score 0.35932781010698966\n",
      "only_pool n_top400_w2v_mean rand: 1\n",
      "train_score: 0 dev_score 0.35862927380926607\n",
      "only_pool n_top400_w2v_mean rand: 2\n",
      "train_score: 0 dev_score 0.35683866108521684\n",
      "only_pool n_top400_w2v_mean rand: 3\n",
      "train_score: 0 dev_score 0.35947114946242265\n",
      "only_pool a_top200_w2v_mean rand: 0\n",
      "train_score: 0.10255791861056471 dev_score 0.18758570554832163\n",
      "only_pool a_top200_w2v_mean rand: 1\n",
      "train_score: 0 dev_score 0.1847243400562286\n",
      "only_pool a_top200_w2v_mean rand: 2\n",
      "train_score: 0 dev_score 0.1892714217542004\n",
      "only_pool a_top200_w2v_mean rand: 3\n",
      "train_score: 0 dev_score 0.19724411217652318\n",
      "only_pool v_top200_w2v_mean rand: 0\n",
      "train_score: 0.11949278624014013 dev_score 0.17622001022498313\n",
      "only_pool v_top200_w2v_mean rand: 1\n",
      "train_score: 0 dev_score 0.1758820435369584\n",
      "only_pool v_top200_w2v_mean rand: 2\n",
      "train_score: 0 dev_score 0.18309390475365708\n",
      "only_pool v_top200_w2v_mean rand: 3\n",
      "train_score: 0 dev_score 0.18770524460704416\n",
      "only_pool full_bow rand: 0\n",
      "train_score: 0.7262113357612245 dev_score 0.37441703471322274\n",
      "only_pool full_bow rand: 1\n",
      "train_score: 0 dev_score 0.38815803119524095\n",
      "only_pool full_bow rand: 2\n",
      "train_score: 0 dev_score 0.39352849976176213\n",
      "only_pool full_bow rand: 3\n",
      "train_score: 0 dev_score 0.3922012006182672\n",
      "only_pool n_full_bow rand: 0\n",
      "train_score: 0.8190087333804825 dev_score 0.3842541755264859\n",
      "only_pool n_full_bow rand: 1\n",
      "train_score: 0 dev_score 0.387397330049981\n",
      "only_pool n_full_bow rand: 2\n",
      "train_score: 0 dev_score 0.39796619780503295\n",
      "only_pool n_full_bow rand: 3\n",
      "train_score: 0 dev_score 0.39357965700665004\n",
      "only_pool a_full_bow rand: 0\n",
      "train_score: 0.36236131020145146 dev_score 0.2320445746247217\n",
      "only_pool a_full_bow rand: 1\n",
      "train_score: 0 dev_score 0.2397348296891447\n",
      "only_pool a_full_bow rand: 2\n",
      "train_score: 0 dev_score 0.25360770984476483\n",
      "only_pool a_full_bow rand: 3\n",
      "train_score: 0 dev_score 0.24447004088317942\n",
      "only_pool v_full_bow rand: 0\n",
      "train_score: 0.35117483512091197 dev_score 0.1939108976356461\n",
      "only_pool v_full_bow rand: 1\n",
      "train_score: 0 dev_score 0.1975599369949796\n",
      "only_pool v_full_bow rand: 2\n",
      "train_score: 0 dev_score 0.19874900870543286\n",
      "only_pool v_full_bow rand: 3\n",
      "train_score: 0 dev_score 0.1999356438839798\n",
      "only_pool n_top800_bow rand: 0\n",
      "train_score: 0.7540855056192518 dev_score 0.3838411330435131\n",
      "only_pool n_top800_bow rand: 1\n",
      "train_score: 0 dev_score 0.3859522066061733\n",
      "only_pool n_top800_bow rand: 2\n",
      "train_score: 0 dev_score 0.39750260546127425\n",
      "only_pool n_top800_bow rand: 3\n",
      "train_score: 0 dev_score 0.3888579314583765\n",
      "only_pool a_top400_bow rand: 0\n",
      "train_score: 0.2864080247361642 dev_score 0.2280696479088507\n",
      "only_pool a_top400_bow rand: 1\n",
      "train_score: 0 dev_score 0.2361855475900948\n",
      "only_pool a_top400_bow rand: 2\n",
      "train_score: 0 dev_score 0.2475054881693814\n",
      "only_pool a_top400_bow rand: 3\n",
      "train_score: 0 dev_score 0.23986655735690177\n",
      "only_pool v_top400_bow rand: 0\n",
      "train_score: 0.2810555389624565 dev_score 0.19117980500751397\n",
      "only_pool v_top400_bow rand: 1\n",
      "train_score: 0 dev_score 0.19471210864513883\n",
      "only_pool v_top400_bow rand: 2\n",
      "train_score: 0 dev_score 0.19606834440499302\n",
      "only_pool v_top400_bow rand: 3\n",
      "train_score: 0 dev_score 0.19881065093317415\n",
      "only_pool n_top400_bow rand: 0\n",
      "train_score: 0.6661454953988865 dev_score 0.3766346675877442\n",
      "only_pool n_top400_bow rand: 1\n",
      "train_score: 0 dev_score 0.3785478240112141\n",
      "only_pool n_top400_bow rand: 2\n",
      "train_score: 0 dev_score 0.38742168691516604\n",
      "only_pool n_top400_bow rand: 3\n",
      "train_score: 0 dev_score 0.37578995512356583\n",
      "only_pool a_top200_bow rand: 0\n",
      "train_score: 0.23796319416039324 dev_score 0.22454400603481486\n",
      "only_pool a_top200_bow rand: 1\n",
      "train_score: 0 dev_score 0.23004110533858985\n",
      "only_pool a_top200_bow rand: 2\n",
      "train_score: 0 dev_score 0.24157369114588542\n",
      "only_pool a_top200_bow rand: 3\n",
      "train_score: 0 dev_score 0.23238552330667267\n",
      "only_pool v_top200_bow rand: 0\n",
      "train_score: 0.22493061482291357 dev_score 0.1861284462441583\n",
      "only_pool v_top200_bow rand: 1\n",
      "train_score: 0 dev_score 0.18828928161836445\n",
      "only_pool v_top200_bow rand: 2\n",
      "train_score: 0 dev_score 0.1930741750531031\n",
      "only_pool v_top200_bow rand: 3\n",
      "train_score: 0 dev_score 0.1942945003783626\n"
     ]
    }
   ],
   "source": [
    "for X_datakey in X_data:\n",
    "    Models['ridge'][X_datakey] = {}\n",
    "    x_train_dev = X_dict['train_dev'][X_datakey]\n",
    "    x_test = X_dict['test'][X_datakey]\n",
    "    \n",
    "    for Y_datakey in Y_data:\n",
    "        Models['ridge'][X_datakey][Y_datakey] = {}\n",
    "        y_train_dev = Y_dict['train_dev'][Y_datakey]\n",
    "        y_test = Y_dict['test'][Y_datakey]\n",
    "        if 'bow' in Y_datakey:\n",
    "            y_train_dev = (y_train_dev>0).astype(int) + (y_train_dev>1).astype(int)*0.5\n",
    "            y_test = (y_test>0).astype(int) + (y_test>1).astype(int)*0.5\n",
    "        for rand_state in range(4):\n",
    "            print(X_datakey, Y_datakey, 'rand:', rand_state)\n",
    "            split_idx = list(range(num_train + num_dev))\n",
    "            split_idx = shuffle(split_idx, random_state=rand_state)\n",
    "            x_train = x_train_dev[split_idx[:num_train]]\n",
    "            x_dev = x_train_dev[split_idx[num_train:]]\n",
    "            y_train = y_train_dev[split_idx[:num_train]]\n",
    "            y_dev = y_train_dev[split_idx[num_train:]]\n",
    "            \n",
    "            # train OLS model with regression\n",
    "            ridge_reg = Ridge(alpha=150)\n",
    "            ridge_reg.fit(x_train, y_train)\n",
    "            \n",
    "            # score\n",
    "            if rand_state == 0:\n",
    "                y_train_pred = ridge_reg.predict(x_train)\n",
    "                train_distances = pairwise_distances(y_train, y_train_pred)\n",
    "                train_scores = []\n",
    "                train_pos_list = []\n",
    "\n",
    "                for i in range(num_train):\n",
    "                    pred_dist_idx = list(np.argsort(train_distances[i]))\n",
    "                    train_pos = pred_dist_idx.index(i)\n",
    "                    train_pos_list.append(train_pos)\n",
    "                    if train_pos < 20:\n",
    "                        train_scores.append(1 / (train_pos + 1))\n",
    "                    else:\n",
    "                        train_scores.append(0.0)\n",
    "                train_score = np.mean(train_scores)\n",
    "            else:\n",
    "                train_score = 0\n",
    "            \n",
    "            y_dev_pred = ridge_reg.predict(x_dev)\n",
    "            dev_distances_origin = pairwise_distances(y_dev, y_dev_pred)\n",
    "            dev_distances = dev_distances_origin * dist_discount_dev_dict[rand_state]\n",
    "            dev_scores = []\n",
    "            dev_pos_list = []\n",
    "\n",
    "            for i in range(num_dev):\n",
    "                pred_dist_idx = list(np.argsort(dev_distances[i]))\n",
    "                dev_pos = pred_dist_idx.index(i)\n",
    "                dev_pos_list.append(dev_pos)\n",
    "                if dev_pos < 20:\n",
    "                    dev_scores.append(1 / (dev_pos + 1))\n",
    "                else:\n",
    "                    dev_scores.append(0.0)\n",
    "            dev_score = np.mean(dev_scores)\n",
    "\n",
    "            Models['ridge'][X_datakey][Y_datakey][rand_state] =\\\n",
    "                        (train_score, dev_score, ridge_reg)\n",
    "            print('train_score:', train_score, 'dev_score', dev_score)"
   ]
  },
  {
   "cell_type": "code",
   "execution_count": 35,
   "metadata": {},
   "outputs": [
    {
     "data": {
      "text/plain": [
       "{'ridge': {'only_fc': {'full_bow': {0: (0.48742759629807325,\n",
       "     0.36216435113089523,\n",
       "     Ridge(alpha=150, copy_X=True, fit_intercept=True, max_iter=None,\n",
       "        normalize=False, random_state=None, solver='auto', tol=0.001)),\n",
       "    1: (0, 0.3787090326748415, 'skip'),\n",
       "    2: (0, 0.38354257917435164, 'skip')}}}}"
      ]
     },
     "execution_count": 35,
     "metadata": {},
     "output_type": "execute_result"
    }
   ],
   "source": [
    "# Models"
   ]
  },
  {
   "cell_type": "code",
   "execution_count": 16,
   "metadata": {},
   "outputs": [],
   "source": [
    "pickle.dump(Models, open(work_dir + \"modeldata/Ridge_train_dev_score.p\", \"wb\"))"
   ]
  },
  {
   "cell_type": "markdown",
   "metadata": {},
   "source": [
    "### Feed in all the training data for Ridge"
   ]
  },
  {
   "cell_type": "code",
   "execution_count": 28,
   "metadata": {},
   "outputs": [],
   "source": [
    "X_ridge_data = ['only_fc', 'only_pool']#, 'fc_pool'\n",
    "Y_ridge_data = ['full_w2v_mean', 'n_full_w2v_mean', 'a_full_w2v_mean', 'v_full_w2v_mean',\\\n",
    "                     'full_bow', 'n_full_bow', 'a_full_bow', 'v_full_bow']\n",
    "\n",
    "Ridge_all_data_Models = {}# Ridge_Models['X']['Y'] = model"
   ]
  },
  {
   "cell_type": "code",
   "execution_count": 29,
   "metadata": {},
   "outputs": [
    {
     "name": "stdout",
     "output_type": "stream",
     "text": [
      "only_fc full_w2v_mean\n",
      "only_fc n_full_w2v_mean\n",
      "only_fc a_full_w2v_mean\n",
      "only_fc v_full_w2v_mean\n",
      "only_fc full_bow\n",
      "only_fc n_full_bow\n",
      "only_fc a_full_bow\n",
      "only_fc v_full_bow\n",
      "only_pool full_w2v_mean\n",
      "only_pool n_full_w2v_mean\n",
      "only_pool a_full_w2v_mean\n",
      "only_pool v_full_w2v_mean\n",
      "only_pool full_bow\n",
      "only_pool n_full_bow\n",
      "only_pool a_full_bow\n",
      "only_pool v_full_bow\n"
     ]
    }
   ],
   "source": [
    "for X_datakey in X_ridge_data:\n",
    "    Ridge_all_data_Models[X_datakey] = {}\n",
    "    x_train = X_dict['train_dev'][X_datakey]\n",
    "    \n",
    "    for Y_datakey in Y_ridge_data:\n",
    "        print(X_datakey, Y_datakey)\n",
    "        y_train = Y_dict['train_dev'][Y_datakey]\n",
    "        if 'bow' in Y_datakey:\n",
    "            y_train = (y_train>0).astype(int) + (y_train>1).astype(int)*0.5\n",
    "\n",
    "        # train OLS model with regression\n",
    "        ridge_reg = Ridge(alpha=150)\n",
    "        ridge_reg.fit(x_train, y_train)\n",
    "        Ridge_all_data_Models[X_datakey][Y_datakey] = ridge_reg"
   ]
  },
  {
   "cell_type": "code",
   "execution_count": 30,
   "metadata": {},
   "outputs": [],
   "source": [
    "pickle.dump(Ridge_all_data_Models, open(work_dir + \"modeldata/Ridge_all_data_model.p\", \"wb\"))"
   ]
  },
  {
   "cell_type": "markdown",
   "metadata": {},
   "source": [
    "### KNN"
   ]
  },
  {
   "cell_type": "code",
   "execution_count": 26,
   "metadata": {},
   "outputs": [],
   "source": [
    "X_knn_data = ['only_fc', 'only_pool']#, 'fc_pool'\n",
    "Y_knn_data = ['full_w2v_mean', 'n_full_w2v_mean', 'a_full_w2v_mean', 'v_full_w2v_mean',\\\n",
    "                     'full_bow', 'n_full_bow', 'a_full_bow', 'v_full_bow']\n",
    "\n",
    "KNN_Models = {} # KNN_Models['X']['Y'][k][rand_state] = (dev_score, model)"
   ]
  },
  {
   "cell_type": "code",
   "execution_count": 18,
   "metadata": {},
   "outputs": [],
   "source": [
    "num_train = 8000; num_dev = 2000; num_test = 2000"
   ]
  },
  {
   "cell_type": "code",
   "execution_count": 34,
   "metadata": {},
   "outputs": [
    {
     "name": "stdout",
     "output_type": "stream",
     "text": [
      "only_fc full_w2v_mean K: 8\n",
      "dev_score 0.6191734605414365\n",
      "only_fc n_full_w2v_mean K: 8\n",
      "dev_score 0.6021428986519156\n",
      "only_fc a_full_w2v_mean K: 8\n",
      "dev_score 0.21120994172236435\n",
      "only_fc v_full_w2v_mean K: 8\n",
      "dev_score 0.27330411229207674\n",
      "only_fc full_bow K: 8\n",
      "dev_score 0.58931275997824\n",
      "only_fc n_full_bow K: 8\n",
      "dev_score 0.6217904302160687\n",
      "only_fc a_full_bow K: 8\n",
      "dev_score 0.2590453454977255\n",
      "only_fc v_full_bow K: 8\n",
      "dev_score 0.3011049905503853\n",
      "only_pool full_w2v_mean K: 8\n",
      "dev_score 0.6357816771936353\n",
      "only_pool n_full_w2v_mean K: 8\n",
      "dev_score 0.6202575394355386\n",
      "only_pool a_full_w2v_mean K: 8\n",
      "dev_score 0.21392581523438722\n",
      "only_pool v_full_w2v_mean K: 8\n",
      "dev_score 0.2747523673866553\n",
      "only_pool full_bow K: 8\n",
      "dev_score 0.610703214864341\n",
      "only_pool n_full_bow K: 8\n",
      "dev_score 0.6321247252317685\n",
      "only_pool a_full_bow K: 8\n",
      "dev_score 0.2792457934029335\n",
      "only_pool v_full_bow K: 8\n",
      "dev_score 0.302420412125714\n"
     ]
    }
   ],
   "source": [
    "for X_datakey in X_knn_data:\n",
    "    KNN_Models[X_datakey] = {}\n",
    "    x_train_dev = X_dict['train_dev'][X_datakey]\n",
    "    x_test = X_dict['test'][X_datakey]\n",
    "    \n",
    "    for Y_datakey in Y_knn_data:\n",
    "        KNN_Models[X_datakey][Y_datakey] = {}\n",
    "        y_train_dev = Y_dict['train_dev'][Y_datakey]\n",
    "        y_test = Y_dict['test'][Y_datakey]\n",
    "        if 'bow' in Y_datakey:\n",
    "            y_train_dev = (y_train_dev>0).astype(int) + (y_train_dev>1).astype(int)*0.5\n",
    "            y_test = (y_test>0).astype(int) + (y_test>1).astype(int)*0.5\n",
    "        for k in [8]:\n",
    "                print(X_datakey, Y_datakey, 'K:', k)\n",
    "                split_idx = list(range(num_train + num_dev))\n",
    "                split_idx = shuffle(split_idx, random_state=0)\n",
    "                x_train = x_train_dev[split_idx[:num_train]]\n",
    "                x_dev = x_train_dev[split_idx[num_train:]]\n",
    "                y_train = y_train_dev[split_idx[:num_train]]\n",
    "                y_dev = y_train_dev[split_idx[num_train:]]\n",
    "\n",
    "                # train OLS model with regression\n",
    "                neigh = KNeighborsRegressor(n_neighbors=k)\n",
    "                neigh.fit(x_train, y_train)\n",
    "\n",
    "                # score\n",
    "                y_dev_pred = neigh.predict(x_dev)\n",
    "                dev_distances_origin = pairwise_distances(y_dev, y_dev_pred)\n",
    "                dev_distances = dev_distances_origin * dist_discount_dev_dict[rand_state]\n",
    "                dev_scores = []\n",
    "                dev_pos_list = []\n",
    "\n",
    "                for i in range(num_dev):\n",
    "                    pred_dist_idx = list(np.argsort(dev_distances[i]))\n",
    "                    dev_pos = pred_dist_idx.index(i)\n",
    "                    dev_pos_list.append(dev_pos)\n",
    "                    if dev_pos < 20:\n",
    "                        dev_scores.append(1 / (dev_pos + 1))\n",
    "                    else:\n",
    "                        dev_scores.append(0.0)\n",
    "                dev_score = np.mean(dev_scores)\n",
    "\n",
    "                KNN_Models[X_datakey][Y_datakey][k] =\\\n",
    "                            (dev_score, ridge_reg)\n",
    "                print('dev_score', dev_score)"
   ]
  },
  {
   "cell_type": "code",
   "execution_count": 35,
   "metadata": {},
   "outputs": [],
   "source": [
    "pickle.dump(KNN_Models, open(work_dir + \"modeldata/KNN_dev_score_model.p\", \"wb\"))"
   ]
  },
  {
   "cell_type": "markdown",
   "metadata": {},
   "source": [
    "### Feed in all the training data for KNN"
   ]
  },
  {
   "cell_type": "code",
   "execution_count": 31,
   "metadata": {},
   "outputs": [],
   "source": [
    "X_knn_data = ['only_fc', 'only_pool']#, 'fc_pool'\n",
    "Y_knn_data = ['full_w2v_mean', 'n_full_w2v_mean', 'a_full_w2v_mean', 'v_full_w2v_mean',\\\n",
    "                     'full_bow', 'n_full_bow', 'a_full_bow', 'v_full_bow']\n",
    "\n",
    "KNN_all_data_Models = {} # KNN_Models['X']['Y'][k] = model"
   ]
  },
  {
   "cell_type": "code",
   "execution_count": 32,
   "metadata": {},
   "outputs": [
    {
     "name": "stdout",
     "output_type": "stream",
     "text": [
      "only_fc full_w2v_mean\n",
      "only_fc n_full_w2v_mean\n",
      "only_fc a_full_w2v_mean\n",
      "only_fc v_full_w2v_mean\n",
      "only_fc full_bow\n",
      "only_fc n_full_bow\n",
      "only_fc a_full_bow\n",
      "only_fc v_full_bow\n",
      "only_pool full_w2v_mean\n",
      "only_pool n_full_w2v_mean\n",
      "only_pool a_full_w2v_mean\n",
      "only_pool v_full_w2v_mean\n",
      "only_pool full_bow\n",
      "only_pool n_full_bow\n",
      "only_pool a_full_bow\n",
      "only_pool v_full_bow\n"
     ]
    }
   ],
   "source": [
    "for X_datakey in X_knn_data:\n",
    "    KNN_all_data_Models[X_datakey] = {}\n",
    "    x_train = X_dict['train_dev'][X_datakey]\n",
    "    \n",
    "    for Y_datakey in Y_knn_data:\n",
    "        print(X_datakey, Y_datakey)\n",
    "        y_train = Y_dict['train_dev'][Y_datakey]\n",
    "        if 'bow' in Y_datakey:\n",
    "            y_train = (y_train>0).astype(int) + (y_train>1).astype(int)*0.5\n",
    "\n",
    "        # train OLS model with regression\n",
    "        neigh = KNeighborsRegressor(n_neighbors=8)\n",
    "        neigh.fit(x_train, y_train)\n",
    "        KNN_all_data_Models[X_datakey][Y_datakey] = neigh"
   ]
  },
  {
   "cell_type": "code",
   "execution_count": 33,
   "metadata": {},
   "outputs": [],
   "source": [
    "pickle.dump(KNN_all_data_Models, open(work_dir + \"modeldata/KNN_all_data_Models.p\", \"wb\"))"
   ]
  },
  {
   "cell_type": "markdown",
   "metadata": {},
   "source": [
    "### 1. Train different models to predict the description from the image features"
   ]
  },
  {
   "cell_type": "markdown",
   "metadata": {},
   "source": [
    "### 2. Test out model on development data, computing its MAP@20, and investigating the quality of the rankings"
   ]
  },
  {
   "cell_type": "code",
   "execution_count": 144,
   "metadata": {},
   "outputs": [],
   "source": []
  },
  {
   "cell_type": "code",
   "execution_count": 97,
   "metadata": {},
   "outputs": [
    {
     "name": "stdout",
     "output_type": "stream",
     "text": [
      "Train MAP@20: 0.4341711737512144\n",
      "Mean position of true image 21.3235\n",
      "Median position of true image 3.0\n",
      "\n",
      "Development MAP@20: 0.3177371248741798\n",
      "Mean position of true image 17.744\n",
      "Median position of true image 5.0\n"
     ]
    }
   ],
   "source": [
    "# +0.5, alpha=CV, fc\n",
    "train_dist = test_model_on_train(ridge_reg_best)\n",
    "print()\n",
    "dev_dist = test_model_on_dev(ridge_reg_best)"
   ]
  },
  {
   "cell_type": "code",
   "execution_count": 100,
   "metadata": {},
   "outputs": [
    {
     "name": "stdout",
     "output_type": "stream",
     "text": [
      "Train MAP@20: 0.4341711737512144\n",
      "Mean position of true image 21.3235\n",
      "Median position of true image 3.0\n",
      "\n",
      "Development MAP@20: 0.37578227602505854\n",
      "Mean position of true image 13.513\n",
      "Median position of true image 4.0\n"
     ]
    }
   ],
   "source": [
    "# +0.5, alpha=CV, dist_discount, fc\n",
    "train_dist = test_model_on_train(ridge_reg_best)\n",
    "print()\n",
    "dev_dist = test_model_on_dev(ridge_reg_best)"
   ]
  },
  {
   "cell_type": "code",
   "execution_count": 141,
   "metadata": {},
   "outputs": [
    {
     "name": "stdout",
     "output_type": "stream",
     "text": [
      "Train MAP@20: 0.6299895637574284\n",
      "Mean position of true image 9.29025\n",
      "Median position of true image 0.0\n",
      "\n",
      "Development MAP@20: 0.3956479965102837\n",
      "Mean position of true image 12.853\n",
      "Median position of true image 4.0\n"
     ]
    }
   ],
   "source": [
    "# +0.5, alpha=210, dist_discount, pool\n",
    "train_dist = test_model_on_train(ridge_reg)\n",
    "print()\n",
    "dev_dist = test_model_on_dev(ridge_reg)"
   ]
  },
  {
   "cell_type": "code",
   "execution_count": 143,
   "metadata": {},
   "outputs": [
    {
     "name": "stdout",
     "output_type": "stream",
     "text": [
      "Train MAP@20: 0.6299895637574284\n",
      "Mean position of true image 9.29025\n",
      "Median position of true image 0.0\n",
      "\n",
      "Development MAP@20: 0.3956479965102837\n",
      "Mean position of true image 12.853\n",
      "Median position of true image 4.0\n"
     ]
    }
   ],
   "source": [
    "# +0.5, alpha=210, dist_discount, pool\n",
    "train_dist = test_model_on_train(ridge_reg)\n",
    "print()\n",
    "dev_dist = test_model_on_dev(ridge_reg)"
   ]
  },
  {
   "cell_type": "code",
   "execution_count": 10,
   "metadata": {},
   "outputs": [
    {
     "name": "stdout",
     "output_type": "stream",
     "text": [
      "Train MAP@20: 0.6299895637574284\n",
      "Mean position of true image 9.29025\n",
      "Median position of true image 0.0\n",
      "\n",
      "Development MAP@20: 0.3403670830803184\n",
      "Mean position of true image 16.292\n",
      "Median position of true image 5.0\n"
     ]
    }
   ],
   "source": [
    "# +0.5, alpha=210\n",
    "train_dist = test_model_on_train(ridge_reg)\n",
    "print()\n",
    "dev_dist = test_model_on_dev(ridge_reg)"
   ]
  },
  {
   "cell_type": "code",
   "execution_count": 85,
   "metadata": {},
   "outputs": [
    {
     "name": "stdout",
     "output_type": "stream",
     "text": [
      "Train MAP@20: 0.6299895637574284\n",
      "Mean position of true image 9.29025\n",
      "Median position of true image 0.0\n",
      "\n",
      "Development MAP@20: 0.3403670830803184\n",
      "Mean position of true image 16.292\n",
      "Median position of true image 5.0\n"
     ]
    }
   ],
   "source": [
    "# +0.5, alpha=CV\n",
    "train_dist = test_model_on_train(ridge_reg_best)\n",
    "print()\n",
    "dev_dist = test_model_on_dev(ridge_reg_best)"
   ]
  },
  {
   "cell_type": "code",
   "execution_count": 79,
   "metadata": {},
   "outputs": [
    {
     "name": "stdout",
     "output_type": "stream",
     "text": [
      "Train MAP@20: 0.7850865268004054\n",
      "Mean position of true image 3.858375\n",
      "Median position of true image 0.0\n",
      "\n",
      "Development MAP@20: 0.33340503282192524\n",
      "Mean position of true image 18.2465\n",
      "Median position of true image 5.0\n"
     ]
    }
   ],
   "source": [
    "# +0.2, alpha=90\n",
    "train_dist = test_model_on_train(ridge_reg)\n",
    "print()\n",
    "dev_dist = test_model_on_dev(ridge_reg)"
   ]
  },
  {
   "cell_type": "code",
   "execution_count": 74,
   "metadata": {},
   "outputs": [
    {
     "name": "stdout",
     "output_type": "stream",
     "text": [
      "Train MAP@20: 0.7422200892411468\n",
      "Mean position of true image 4.89675\n",
      "Median position of true image 0.0\n",
      "\n",
      "Development MAP@20: 0.34154812759479947\n",
      "Mean position of true image 17.5565\n",
      "Median position of true image 5.0\n"
     ]
    }
   ],
   "source": [
    "# +0.5, alpha=90\n",
    "train_dist = test_model_on_train(ridge_reg)\n",
    "print()\n",
    "dev_dist = test_model_on_dev(ridge_reg)"
   ]
  },
  {
   "cell_type": "code",
   "execution_count": 69,
   "metadata": {},
   "outputs": [
    {
     "name": "stdout",
     "output_type": "stream",
     "text": [
      "Train MAP@20: 0.728070688851697\n",
      "Mean position of true image 5.247875\n",
      "Median position of true image 0.0\n",
      "\n",
      "Development MAP@20: 0.34055813558216813\n",
      "Mean position of true image 17.567\n",
      "Median position of true image 4.5\n"
     ]
    }
   ],
   "source": [
    "# +0.6, alpha=90\n",
    "train_dist = test_model_on_train(ridge_reg)\n",
    "print()\n",
    "dev_dist = test_model_on_dev(ridge_reg)"
   ]
  },
  {
   "cell_type": "code",
   "execution_count": 35,
   "metadata": {},
   "outputs": [
    {
     "name": "stdout",
     "output_type": "stream",
     "text": [
      "Train MAP@20: 0.6828545557705968\n",
      "Mean position of true image 6.5955\n",
      "Median position of true image 0.0\n",
      "\n",
      "Development MAP@20: 0.33738035383733916\n",
      "Mean position of true image 18.1845\n",
      "Median position of true image 5.0\n"
     ]
    }
   ],
   "source": [
    "train_dist = test_model_on_train(ridge_reg)\n",
    "print()\n",
    "dev_dist = test_model_on_dev(ridge_reg)"
   ]
  },
  {
   "cell_type": "code",
   "execution_count": 20,
   "metadata": {},
   "outputs": [
    {
     "name": "stdout",
     "output_type": "stream",
     "text": [
      "Train MAP@20: 0.8159132326667784\n",
      "Mean position of true image 3.18225\n",
      "Median position of true image 0.0\n",
      "\n",
      "Development MAP@20: 0.32316708317052745\n",
      "Mean position of true image 19.8755\n",
      "Median position of true image 5.0\n"
     ]
    }
   ],
   "source": [
    "train_dist = test_model_on_train(ridge_reg)\n",
    "print()\n",
    "dev_dist = test_model_on_dev(ridge_reg)"
   ]
  },
  {
   "cell_type": "code",
   "execution_count": null,
   "metadata": {},
   "outputs": [],
   "source": [
    "# X_data = 'only_fc', 'only_pool', 'fc_pool'\n",
    "# Y_data = 'full_w2v_mean', 'nv_w2v_mean', 'n_w2v_mean', 'av_w2v_mean', \n",
    "#          'BOW_tagEnhanced_1', 'BOW_tagEnhanced_2', 'BOW_tagEnhanced_5'\n",
    "#          'bow_1294', 'bow_4291'"
   ]
  },
  {
   "cell_type": "code",
   "execution_count": 90,
   "metadata": {},
   "outputs": [],
   "source": [
    "def overfit_learner(X_data, Y_data):\n",
    "    x_train_dev = X_dict[X_data]['train_dev']\n",
    "    x_test = X_dict[X_data]['test']\n",
    "    y_train_dev = Y_dict[Y_data]['train_dev']\n",
    "    y_test = Y_dict[Y_data]['test']\n",
    "    x_train = x_train_dev[split_idx[:num_train]]\n",
    "    x_dev = x_train_dev[split_idx[num_train:]]\n",
    "    y_train = y_train_dev[split_idx[:num_train]]\n",
    "    y_dev = y_train_dev[split_idx[ncombum_train:]]\n",
    "    \n",
    "    ridge_reg = Ridge(alpha=90)\n",
    "    ridge_reg.fit(x_train, y_train)\n",
    "    \n",
    "    y_dev_pred = ridge_reg.predict(x_dev)\n",
    "    dev_distances = pairwise_distances(y_dev, y_dev_pred)\n",
    "    dev_scores = []\n",
    "    dev_pos_list = []\n",
    "\n",
    "    for i in range(num_dev):\n",
    "        pred_dist_idx = list(np.argsort(dev_distances[i]))\n",
    "        dev_pos = pred_dist_idx.index(i)\n",
    "        dev_pos_list.append(dev_pos)\n",
    "        if dev_pos < 20:\n",
    "            dev_scores.append(1 / (dev_pos + 1))\n",
    "        else:\n",
    "            dev_scores.append(0.0)\n",
    "    \n",
    "    return dev_distances, np.mean(dev_scores)"
   ]
  },
  {
   "cell_type": "code",
   "execution_count": 122,
   "metadata": {},
   "outputs": [],
   "source": [
    "learner_combination = [('only_pool', 'bow_4291'),('only_pool', 'n_w2v_mean'),('only_pool', 'av_w2v_mean'),\\\n",
    "                      ('only_fc', 'bow_4291'),('only_fc', 'n_w2v_mean'),('only_fc', 'av_w2v_mean')]\n",
    "\n",
    "learners = {}\n",
    "for comb in learner_combination:\n",
    "    dist_matrix, score = overfit_learner(comb[0],comb[1])\n",
    "    learners[comb] = (dist_matrix, score)"
   ]
  },
  {
   "cell_type": "code",
   "execution_count": 125,
   "metadata": {},
   "outputs": [],
   "source": [
    "learner_weight = {}\n",
    "for k,v in learners.items():\n",
    "    learner_weight[k] = v[1]"
   ]
  },
  {
   "cell_type": "code",
   "execution_count": 107,
   "metadata": {},
   "outputs": [
    {
     "name": "stdout",
     "output_type": "stream",
     "text": [
      "Development MAP@20: 0.3600585244691669\n",
      "Mean position of true image 15.89\n",
      "Median position of true image 4.0\n"
     ]
    }
   ],
   "source": [
    "dev_distances = np.zeros((2000, 2000))\n",
    "for result in learners.values():\n",
    "    dev_distances += result[0] * result[1]\n",
    "\n",
    "\n",
    "dev_scores = []\n",
    "dev_pos_list = []\n",
    "\n",
    "for i in range(num_dev):\n",
    "    pred_dist_idx = list(np.argsort(dev_distances[i]))\n",
    "    dev_pos = pred_dist_idx.index(i)\n",
    "    dev_pos_list.append(dev_pos)\n",
    "    if dev_pos < 20:\n",
    "        dev_scores.append(1 / (dev_pos + 1))\n",
    "    else:\n",
    "        dev_scores.append(0.0)\n",
    "\n",
    "print(\"Development MAP@20:\", np.mean(dev_scores))\n",
    "print(\"Mean position of true image\", np.mean(dev_pos_list))\n",
    "print(\"Median position of true image\", np.median(dev_pos_list))"
   ]
  },
  {
   "cell_type": "code",
   "execution_count": null,
   "metadata": {},
   "outputs": [],
   "source": []
  },
  {
   "cell_type": "code",
   "execution_count": null,
   "metadata": {},
   "outputs": [],
   "source": []
  },
  {
   "cell_type": "code",
   "execution_count": null,
   "metadata": {},
   "outputs": [],
   "source": [
    "def inspect_model_performance(image_index, model):\n",
    "    "
   ]
  },
  {
   "cell_type": "code",
   "execution_count": null,
   "metadata": {},
   "outputs": [],
   "source": []
  },
  {
   "cell_type": "markdown",
   "metadata": {},
   "source": [
    "### 4. Finally use a model to compute top-20 predictions on the test data that can be submitted to Kaggle"
   ]
  },
  {
   "cell_type": "code",
   "execution_count": 126,
   "metadata": {},
   "outputs": [],
   "source": [
    "def fullset_learner(X_data, Y_data):\n",
    "    x_train_dev = X_dict[X_data]['train_dev']\n",
    "    x_test = X_dict[X_data]['test']\n",
    "    y_train_dev = Y_dict[Y_data]['train_dev']\n",
    "    y_test = Y_dict[Y_data]['test']\n",
    "    \n",
    "    ridge_reg = Ridge(alpha=90)\n",
    "    ridge_reg.fit(x_train_dev, y_train_dev)\n",
    "    \n",
    "    y_test_pred = ridge_reg.predict(x_test)\n",
    "    dev_distances = pairwise_distances(y_test, y_test_pred)\n",
    "    \n",
    "    return dev_distances"
   ]
  },
  {
   "cell_type": "code",
   "execution_count": 127,
   "metadata": {},
   "outputs": [],
   "source": [
    "learner_combination = [('only_pool', 'bow_4291'),('only_pool', 'n_w2v_mean'),('only_pool', 'av_w2v_mean'),\\\n",
    "                      ('only_fc', 'bow_4291'),('only_fc', 'n_w2v_mean'),('only_fc', 'av_w2v_mean')]\n",
    "\n",
    "test_dist = {}\n",
    "for comb in learner_combination:\n",
    "    if comb[1]!='av_w2v_mean':\n",
    "        dist_matrix = fullset_learner(comb[0],comb[1])\n",
    "        test_dist[comb] = dist_matrix"
   ]
  },
  {
   "cell_type": "code",
   "execution_count": 129,
   "metadata": {},
   "outputs": [],
   "source": [
    "test_distances = np.zeros((2000, 2000))\n",
    "for comb in learner_combination:\n",
    "    if comb[1]!='av_w2v_mean':\n",
    "        test_distances += test_dist[comb] * learner_weight[comb]"
   ]
  },
  {
   "cell_type": "code",
   "execution_count": 130,
   "metadata": {},
   "outputs": [
    {
     "data": {
      "text/plain": [
       "array([[5.53844671, 5.63639348, 5.40675457, ..., 5.48945771, 5.91745964,\n",
       "        6.32867515],\n",
       "       [5.61504727, 5.61525129, 5.71905203, ..., 5.63511242, 5.73045421,\n",
       "        4.98068698],\n",
       "       [3.92571399, 4.13838268, 3.68707737, ..., 3.79472255, 3.94624768,\n",
       "        4.81389516],\n",
       "       ...,\n",
       "       [3.80531132, 4.27495197, 3.91405698, ..., 3.89063719, 4.38231861,\n",
       "        4.04416667],\n",
       "       [4.27510325, 4.78701014, 4.38586372, ..., 4.49792071, 4.90364611,\n",
       "        5.20709396],\n",
       "       [4.09080414, 3.67006583, 3.65421024, ..., 3.93422112, 4.33886528,\n",
       "        4.55403355]])"
      ]
     },
     "execution_count": 130,
     "metadata": {},
     "output_type": "execute_result"
    }
   ],
   "source": [
    "test_distances"
   ]
  },
  {
   "cell_type": "code",
   "execution_count": 131,
   "metadata": {},
   "outputs": [
    {
     "name": "stdout",
     "output_type": "stream",
     "text": [
      "Output written!\n"
     ]
    }
   ],
   "source": [
    "pred_rows = []\n",
    "\n",
    "for i in range(num_test):\n",
    "    test_dist_idx = list(np.argsort(test_distances[i]))\n",
    "    top_20 = test_dist_idx[:20]\n",
    "    row = [\"%d.jpg\" % i for i in test_dist_idx[:20]]\n",
    "    pred_rows.append(\" \".join(row))\n",
    "\n",
    "with open(\"ojbk_submission.csv\", \"w\") as f:\n",
    "    f.write(\"Descritpion_ID,Top_20_Image_IDs\\n\")\n",
    "    for i, row in enumerate(pred_rows):\n",
    "        f.write(\"%d.txt,%s\\n\" % (i, row))\n",
    "\n",
    "print(\"Output written!\")"
   ]
  },
  {
   "cell_type": "code",
   "execution_count": null,
   "metadata": {},
   "outputs": [],
   "source": []
  },
  {
   "cell_type": "code",
   "execution_count": 16,
   "metadata": {},
   "outputs": [
    {
     "data": {
      "text/plain": [
       "(2000, 800)"
      ]
     },
     "execution_count": 16,
     "metadata": {},
     "output_type": "execute_result"
    }
   ],
   "source": [
    "y_test.shape"
   ]
  },
  {
   "cell_type": "code",
   "execution_count": 25,
   "metadata": {},
   "outputs": [],
   "source": [
    "# create test predictions\n",
    "def output_submission(model):\n",
    "    x_train_all = np.concatenate([x_train, x_dev])\n",
    "    y_train_all = np.concatenate([y_train, y_dev])\n",
    "    model.fit(x_train_all, y_train_all)\n",
    "    y_test_pred = model.predict(x_test)\n",
    "    test_distances = pairwise_distances(y_test, y_test_pred)\n",
    "    pred_rows = []\n",
    "\n",
    "    for i in range(num_test):\n",
    "        test_dist_idx = list(np.argsort(test_distances[i]))\n",
    "        top_20 = test_dist_idx[:20]\n",
    "        row = [\"%d.jpg\" % i for i in test_dist_idx[:20]]\n",
    "        pred_rows.append(\" \".join(row))\n",
    "\n",
    "    with open(\"test_submission.csv\", \"w\") as f:\n",
    "        f.write(\"Descritpion_ID,Top_20_Image_IDs\\n\")\n",
    "        for i, row in enumerate(pred_rows):\n",
    "            f.write(\"%d.txt,%s\\n\" % (i, row))\n",
    "\n",
    "    print(\"Output written!\")"
   ]
  },
  {
   "cell_type": "code",
   "execution_count": 27,
   "metadata": {},
   "outputs": [
    {
     "name": "stdout",
     "output_type": "stream",
     "text": [
      "Output written!\n"
     ]
    }
   ],
   "source": [
    "output_submission(ridge_reg)"
   ]
  },
  {
   "cell_type": "markdown",
   "metadata": {},
   "source": [
    "### Discount"
   ]
  },
  {
   "cell_type": "code",
   "execution_count": 5,
   "metadata": {},
   "outputs": [
    {
     "ename": "KeyboardInterrupt",
     "evalue": "",
     "output_type": "error",
     "traceback": [
      "\u001b[0;31m---------------------------------------------------------------------------\u001b[0m",
      "\u001b[0;31mKeyboardInterrupt\u001b[0m                         Traceback (most recent call last)",
      "\u001b[0;32m<ipython-input-5-88ed23b75540>\u001b[0m in \u001b[0;36m<module>\u001b[0;34m()\u001b[0m\n\u001b[1;32m      2\u001b[0m \u001b[0;32mfor\u001b[0m \u001b[0mdesc_file_index\u001b[0m \u001b[0;32min\u001b[0m \u001b[0mrange\u001b[0m\u001b[0;34m(\u001b[0m\u001b[0;36m2000\u001b[0m\u001b[0;34m)\u001b[0m\u001b[0;34m:\u001b[0m\u001b[0;34m\u001b[0m\u001b[0m\n\u001b[1;32m      3\u001b[0m     \u001b[0;31m# find description\u001b[0m\u001b[0;34m\u001b[0m\u001b[0;34m\u001b[0m\u001b[0m\n\u001b[0;32m----> 4\u001b[0;31m     \u001b[0;32mwith\u001b[0m \u001b[0mopen\u001b[0m\u001b[0;34m(\u001b[0m\u001b[0mdata_dir\u001b[0m\u001b[0;34m+\u001b[0m\u001b[0;34m'descriptions_test/'\u001b[0m\u001b[0;34m+\u001b[0m\u001b[0mstr\u001b[0m\u001b[0;34m(\u001b[0m\u001b[0mdesc_file_index\u001b[0m\u001b[0;34m)\u001b[0m\u001b[0;34m+\u001b[0m\u001b[0;34m'.txt'\u001b[0m\u001b[0;34m)\u001b[0m \u001b[0;32mas\u001b[0m \u001b[0mf\u001b[0m\u001b[0;34m:\u001b[0m\u001b[0;34m\u001b[0m\u001b[0m\n\u001b[0m\u001b[1;32m      5\u001b[0m         \u001b[0mdesc_file_test\u001b[0m\u001b[0;34m.\u001b[0m\u001b[0mappend\u001b[0m\u001b[0;34m(\u001b[0m\u001b[0mf\u001b[0m\u001b[0;34m.\u001b[0m\u001b[0mread\u001b[0m\u001b[0;34m(\u001b[0m\u001b[0;34m)\u001b[0m\u001b[0;34m.\u001b[0m\u001b[0mlower\u001b[0m\u001b[0;34m(\u001b[0m\u001b[0;34m)\u001b[0m\u001b[0;34m.\u001b[0m\u001b[0mreplace\u001b[0m\u001b[0;34m(\u001b[0m\u001b[0;34m','\u001b[0m\u001b[0;34m,\u001b[0m\u001b[0;34m' '\u001b[0m\u001b[0;34m)\u001b[0m\u001b[0;34m.\u001b[0m\u001b[0mreplace\u001b[0m\u001b[0;34m(\u001b[0m\u001b[0;34m'.'\u001b[0m\u001b[0;34m,\u001b[0m\u001b[0;34m' '\u001b[0m\u001b[0;34m)\u001b[0m\u001b[0;34m.\u001b[0m\u001b[0mreplace\u001b[0m\u001b[0;34m(\u001b[0m\u001b[0;34m'\\n'\u001b[0m\u001b[0;34m,\u001b[0m\u001b[0;34m''\u001b[0m\u001b[0;34m)\u001b[0m\u001b[0;34m.\u001b[0m\u001b[0msplit\u001b[0m\u001b[0;34m(\u001b[0m\u001b[0;34m' '\u001b[0m\u001b[0;34m)\u001b[0m\u001b[0;34m)\u001b[0m\u001b[0;34m\u001b[0m\u001b[0m\n\u001b[1;32m      6\u001b[0m \u001b[0;34m\u001b[0m\u001b[0m\n",
      "\u001b[0;32m~/anaconda3/lib/python3.7/_bootlocale.py\u001b[0m in \u001b[0;36mgetpreferredencoding\u001b[0;34m(do_setlocale)\u001b[0m\n\u001b[1;32m     31\u001b[0m                 \u001b[0;32mreturn\u001b[0m \u001b[0mlocale\u001b[0m\u001b[0;34m.\u001b[0m\u001b[0mgetpreferredencoding\u001b[0m\u001b[0;34m(\u001b[0m\u001b[0mdo_setlocale\u001b[0m\u001b[0;34m)\u001b[0m\u001b[0;34m\u001b[0m\u001b[0m\n\u001b[1;32m     32\u001b[0m     \u001b[0;32melse\u001b[0m\u001b[0;34m:\u001b[0m\u001b[0;34m\u001b[0m\u001b[0m\n\u001b[0;32m---> 33\u001b[0;31m         \u001b[0;32mdef\u001b[0m \u001b[0mgetpreferredencoding\u001b[0m\u001b[0;34m(\u001b[0m\u001b[0mdo_setlocale\u001b[0m\u001b[0;34m=\u001b[0m\u001b[0;32mTrue\u001b[0m\u001b[0;34m)\u001b[0m\u001b[0;34m:\u001b[0m\u001b[0;34m\u001b[0m\u001b[0m\n\u001b[0m\u001b[1;32m     34\u001b[0m             \u001b[0;32massert\u001b[0m \u001b[0;32mnot\u001b[0m \u001b[0mdo_setlocale\u001b[0m\u001b[0;34m\u001b[0m\u001b[0m\n\u001b[1;32m     35\u001b[0m             \u001b[0;32mif\u001b[0m \u001b[0msys\u001b[0m\u001b[0;34m.\u001b[0m\u001b[0mflags\u001b[0m\u001b[0;34m.\u001b[0m\u001b[0mutf8_mode\u001b[0m\u001b[0;34m:\u001b[0m\u001b[0;34m\u001b[0m\u001b[0m\n",
      "\u001b[0;31mKeyboardInterrupt\u001b[0m: "
     ]
    }
   ],
   "source": [
    "desc_file_test = []\n",
    "for desc_file_index in range(2000):\n",
    "    # find description\n",
    "    with open(data_dir+'descriptions_test/'+str(desc_file_index)+'.txt') as f:\n",
    "        desc_file_test.append(f.read().lower().replace(',',' ').replace('.',' ').replace('\\n','').split(' '))\n",
    "\n",
    "tag_file_test = []\n",
    "for tag_file_index in range(2000):\n",
    "    with open(data_dir+'tags_test/'+str(tag_file_index)+'.txt') as f:\n",
    "        tag_txt = f.read()\n",
    "    tags = []\n",
    "    for word in list(pair[pair.find(':')+1:] for pair in tag_txt.split('\\n')[:-1]):\n",
    "        tags += word.split(' ')\n",
    "    tag_file_test.append(tags)"
   ]
  },
  {
   "cell_type": "code",
   "execution_count": 81,
   "metadata": {},
   "outputs": [],
   "source": [
    "def tag_discount_test():\n",
    "    table = []\n",
    "    for desc in desc_file_test:\n",
    "        row = []\n",
    "        for tags in tag_file_test:\n",
    "            d_expo = 0\n",
    "            for tag in tags:\n",
    "                if tag in desc:\n",
    "                    d_expo += 1\n",
    "            row.append(d_expo)\n",
    "        table.append(row)\n",
    "    return table"
   ]
  },
  {
   "cell_type": "code",
   "execution_count": 82,
   "metadata": {},
   "outputs": [],
   "source": [
    "discount_expo_table_test = tag_discount_test()"
   ]
  },
  {
   "cell_type": "code",
   "execution_count": 84,
   "metadata": {},
   "outputs": [],
   "source": [
    "def discount_table_dev(expo_table, exp_rate=0.8):\n",
    "    table = []\n",
    "    for expo_row in expo_table:\n",
    "        row = []\n",
    "        for expo in expo_row:\n",
    "            row.append(exp_rate**expo)\n",
    "        table.append(row)\n",
    "    return table"
   ]
  },
  {
   "cell_type": "code",
   "execution_count": 85,
   "metadata": {},
   "outputs": [],
   "source": [
    "dist_discount_test = np.array(discount_table_dev(discount_expo_table_test, 0.8))"
   ]
  },
  {
   "cell_type": "code",
   "execution_count": 86,
   "metadata": {},
   "outputs": [],
   "source": [
    "# create test predictions\n",
    "def output_submission(model):\n",
    "    x_train_all = np.concatenate([x_train, x_dev])\n",
    "    y_train_all = np.concatenate([y_train, y_dev])\n",
    "    model.fit(x_train_all, y_train_all)\n",
    "    y_test_pred = model.predict(x_test)\n",
    "    test_distances = pairwise_distances(y_test, y_test_pred) * dist_discount_test\n",
    "    pred_rows = []\n",
    "\n",
    "    for i in range(num_test):\n",
    "        test_dist_idx = list(np.argsort(test_distances[i]))\n",
    "        top_20 = test_dist_idx[:20]\n",
    "        row = [\"%d.jpg\" % i for i in test_dist_idx[:20]]\n",
    "        pred_rows.append(\" \".join(row))\n",
    "\n",
    "    with open(\"discount_submission.csv\", \"w\") as f:\n",
    "        f.write(\"Descritpion_ID,Top_20_Image_IDs\\n\")\n",
    "        for i, row in enumerate(pred_rows):\n",
    "            f.write(\"%d.txt,%s\\n\" % (i, row))\n",
    "\n",
    "    print(\"Output written!\")"
   ]
  },
  {
   "cell_type": "code",
   "execution_count": null,
   "metadata": {},
   "outputs": [],
   "source": [
    "output_submission(ridge_reg)"
   ]
  },
  {
   "cell_type": "code",
   "execution_count": 89,
   "metadata": {},
   "outputs": [],
   "source": [
    "x_train_all = np.concatenate([x_train, x_dev])\n",
    "y_train_all = np.concatenate([y_train, y_dev])\n",
    "ridge_reg.fit(x_train_all, y_train_all)\n",
    "y_test_pred = ridge_reg.predict(x_test)\n",
    "pool_test_distances = pairwise_distances(y_test, y_test_pred) * dist_discount_test"
   ]
  },
  {
   "cell_type": "code",
   "execution_count": 102,
   "metadata": {},
   "outputs": [],
   "source": [
    "x_train_all = np.concatenate([x_train, x_dev])\n",
    "y_train_all = np.concatenate([y_train, y_dev])\n",
    "ridge_reg_best.fit(x_train_all, y_train_all)\n",
    "y_test_pred = ridge_reg_best.predict(x_test)\n",
    "fc_test_distances = pairwise_distances(y_test, y_test_pred) * dist_discount_test"
   ]
  },
  {
   "cell_type": "code",
   "execution_count": 111,
   "metadata": {},
   "outputs": [],
   "source": [
    "ensemble_test_distances = pool_test_distances*0.6702 + fc_test_distances*0.3757"
   ]
  },
  {
   "cell_type": "code",
   "execution_count": 112,
   "metadata": {},
   "outputs": [],
   "source": [
    "ensemble_test_distances = ensemble_test_distances * dist_discount_test"
   ]
  },
  {
   "cell_type": "code",
   "execution_count": 113,
   "metadata": {},
   "outputs": [
    {
     "name": "stdout",
     "output_type": "stream",
     "text": [
      "Output written!\n"
     ]
    }
   ],
   "source": [
    "pred_rows = []\n",
    "\n",
    "for i in range(num_test):\n",
    "    test_dist_idx = list(np.argsort(ensemble_test_distances[i]))\n",
    "    top_20 = test_dist_idx[:20]\n",
    "    row = [\"%d.jpg\" % i for i in test_dist_idx[:20]]\n",
    "    pred_rows.append(\" \".join(row))\n",
    "\n",
    "with open(\"ensemble_discount_submission.csv\", \"w\") as f:\n",
    "    f.write(\"Descritpion_ID,Top_20_Image_IDs\\n\")\n",
    "    for i, row in enumerate(pred_rows):\n",
    "        f.write(\"%d.txt,%s\\n\" % (i, row))\n",
    "\n",
    "print(\"Output written!\")"
   ]
  },
  {
   "cell_type": "code",
   "execution_count": 136,
   "metadata": {},
   "outputs": [
    {
     "data": {
      "text/plain": [
       "0.9146101038546527"
      ]
     },
     "execution_count": 136,
     "metadata": {},
     "output_type": "execute_result"
    }
   ],
   "source": [
    "0.8 / 0.8**0.6"
   ]
  },
  {
   "cell_type": "code",
   "execution_count": 137,
   "metadata": {},
   "outputs": [
    {
     "name": "stdout",
     "output_type": "stream",
     "text": [
      "Output written!\n"
     ]
    }
   ],
   "source": [
    "pool_test_distances_maga = pool_test_distances / dist_discount_test**0.6\n",
    "pred_rows = []\n",
    "\n",
    "for i in range(num_test):\n",
    "    test_dist_idx = list(np.argsort(pool_test_distances_maga[i]))\n",
    "    top_20 = test_dist_idx[:20]\n",
    "    row = [\"%d.jpg\" % i for i in test_dist_idx[:20]]\n",
    "    pred_rows.append(\" \".join(row))\n",
    "\n",
    "with open(\"pool_discount_maga_submission.csv\", \"w\") as f:\n",
    "    f.write(\"Descritpion_ID,Top_20_Image_IDs\\n\")\n",
    "    for i, row in enumerate(pred_rows):\n",
    "        f.write(\"%d.txt,%s\\n\" % (i, row))\n",
    "\n",
    "print(\"Output written!\")"
   ]
  }
 ],
 "metadata": {
  "kernelspec": {
   "display_name": "Python 3",
   "language": "python",
   "name": "python3"
  },
  "language_info": {
   "codemirror_mode": {
    "name": "ipython",
    "version": 3
   },
   "file_extension": ".py",
   "mimetype": "text/x-python",
   "name": "python",
   "nbconvert_exporter": "python",
   "pygments_lexer": "ipython3",
   "version": "3.7.0"
  }
 },
 "nbformat": 4,
 "nbformat_minor": 2
}
