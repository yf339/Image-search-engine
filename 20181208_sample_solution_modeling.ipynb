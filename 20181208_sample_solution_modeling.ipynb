{
 "cells": [
  {
   "cell_type": "markdown",
   "metadata": {},
   "source": [
    "### 0. First load libraries, define train/test split"
   ]
  },
  {
   "cell_type": "code",
   "execution_count": 21,
   "metadata": {},
   "outputs": [],
   "source": [
    "import numpy as np\n",
    "import pickle\n",
    "import csv\n",
    "import seaborn\n",
    "from sklearn.model_selection import GridSearchCV\n",
    "from sklearn.metrics import pairwise_distances\n",
    "from sklearn.utils import shuffle\n",
    "import warnings\n",
    "warnings.filterwarnings('ignore')\n",
    "\n",
    "work_dir = '/Users/ronghao/Mirror/Cornell-Tech/2018-Fa-Course/CS-5785/Homework/Final/'\n",
    "data_dir = work_dir + 'all/'"
   ]
  },
  {
   "cell_type": "code",
   "execution_count": 2,
   "metadata": {},
   "outputs": [],
   "source": [
    "X_dict = pickle.load(open(work_dir + \"modeldata/X_dict.p\", \"rb\"))\n",
    "# Y_dict = pickle.load(open(work_dir + \"modeldata/Y_dict.p\", \"rb\"))"
   ]
  },
  {
   "cell_type": "code",
   "execution_count": 115,
   "metadata": {},
   "outputs": [],
   "source": [
    "# X_data = 'only_fc', 'only_pool', 'fc_pool'\n",
    "# Y_data = 'full_w2v_mean', 'nv_w2v_mean', 'n_w2v_mean', 'av_w2v_mean', \n",
    "#          'BOW_tagEnhanced_1', 'BOW_tagEnhanced_2', 'BOW_tagEnhanced_5'\n",
    "#          'bow_1294', 'bow_4291'\n",
    "\n",
    "X_data = 'only_pool'\n",
    "x_train_dev = X_dict[X_data]['train_dev']\n",
    "x_test = X_dict[X_data]['test']\n",
    "\n",
    "# Y_data = 'full_w2v_mean'\n",
    "# y_train_dev = Y_dict[Y_data]['train_dev']\n",
    "# y_test = Y_dict[Y_data]['test']"
   ]
  },
  {
   "cell_type": "code",
   "execution_count": 22,
   "metadata": {},
   "outputs": [],
   "source": [
    "def parse_features(features_path):\n",
    "    vec_map = {}\n",
    "    with open(features_path) as f:\n",
    "        for row in csv.reader(f):\n",
    "            img_id = int(row[0].split(\"/\")[1].split(\".\")[0])\n",
    "            vec_map[img_id] = np.array([float(x) for x in row[1:]])\n",
    "    return np.array([v for k, v in sorted(vec_map.items())])\n",
    "\n",
    "# build x matrices\n",
    "x_train_dev = parse_features(data_dir + \"features_train/features_resnet1000intermediate_train.csv\")\n",
    "x_test = parse_features(data_dir + \"features_test/features_resnet1000intermediate_test.csv\")"
   ]
  },
  {
   "cell_type": "code",
   "execution_count": 4,
   "metadata": {},
   "outputs": [],
   "source": [
    "y_train_dev = pickle.load(open(work_dir + \"data/800noun/y_train_dev.p\", \"rb\"))\n",
    "y_test = pickle.load(open(work_dir + \"data/800noun/y_test.p\", \"rb\"))"
   ]
  },
  {
   "cell_type": "code",
   "execution_count": 5,
   "metadata": {},
   "outputs": [],
   "source": [
    "y_train_dev = (y_train_dev>0).astype(int) + (y_train_dev>1).astype(int)*0.5\n",
    "y_test = (y_test>0).astype(int) + (y_test>1).astype(int)*0.5"
   ]
  },
  {
   "cell_type": "code",
   "execution_count": 116,
   "metadata": {},
   "outputs": [],
   "source": [
    "num_train = 8000; num_dev = 2000; num_test = 2000\n",
    "\n",
    "# Train dev test split\n",
    "split_idx = list(range(num_train + num_dev))\n",
    "split_idx = shuffle(split_idx, random_state=0)\n",
    "\n",
    "x_train = x_train_dev[split_idx[:num_train]]\n",
    "x_dev = x_train_dev[split_idx[num_train:]]\n",
    "y_train = y_train_dev[split_idx[:num_train]]\n",
    "y_dev = y_train_dev[split_idx[num_train:]]"
   ]
  },
  {
   "cell_type": "markdown",
   "metadata": {},
   "source": [
    "### 1. Train different models to predict the description from the image features"
   ]
  },
  {
   "cell_type": "code",
   "execution_count": 96,
   "metadata": {},
   "outputs": [
    {
     "name": "stdout",
     "output_type": "stream",
     "text": [
      "Trained linear regression model!\n",
      "Summary of best model:\n",
      "Ridge(alpha=210, copy_X=True, fit_intercept=True, max_iter=None,\n",
      "   normalize=False, random_state=None, solver='auto', tol=0.001)\n"
     ]
    }
   ],
   "source": [
    "from sklearn.linear_model import Ridge\n",
    "\n",
    "# train OLS model with regression\n",
    "parameters = {\"alpha\": [30, 90, 150, 210]}\n",
    "ridge_reg = GridSearchCV(Ridge(), parameters, cv=10)\n",
    "ridge_reg.fit(x_train, y_train)\n",
    "ridge_reg_best = ridge_reg.best_estimator_\n",
    "print(\"Trained linear regression model!\")\n",
    "print(\"Summary of best model:\")\n",
    "print(ridge_reg_best)\n",
    "\n",
    "# ridge_reg = Ridge(alpha=90)\n",
    "# ridge_reg.fit(x_train, y_train)"
   ]
  },
  {
   "cell_type": "code",
   "execution_count": 117,
   "metadata": {},
   "outputs": [
    {
     "data": {
      "text/plain": [
       "Ridge(alpha=210, copy_X=True, fit_intercept=True, max_iter=None,\n",
       "   normalize=False, random_state=None, solver='auto', tol=0.001)"
      ]
     },
     "execution_count": 117,
     "metadata": {},
     "output_type": "execute_result"
    }
   ],
   "source": [
    "from sklearn.linear_model import Ridge\n",
    "\n",
    "# train OLS model with regression\n",
    "\n",
    "ridge_reg = Ridge(alpha=210)\n",
    "ridge_reg.fit(x_train, y_train)"
   ]
  },
  {
   "cell_type": "code",
   "execution_count": 58,
   "metadata": {},
   "outputs": [],
   "source": [
    "desc_file = []\n",
    "for desc_file_index in split_idx[8000:]:\n",
    "    # find description\n",
    "    with open(data_dir+'descriptions_train/'+str(desc_file_index)+'.txt') as f:\n",
    "        desc_file.append(f.read().lower().replace(',',' ').replace('.',' ').replace('\\n','').split(' '))\n",
    "\n",
    "tag_file = []\n",
    "for tag_file_index in split_idx[8000:]:\n",
    "    with open(data_dir+'tags_train/'+str(tag_file_index)+'.txt') as f:\n",
    "        tag_txt = f.read()\n",
    "    tags = []\n",
    "    for word in list(pair[pair.find(':')+1:] for pair in tag_txt.split('\\n')[:-1]):\n",
    "        tags += word.split(' ')\n",
    "    tag_file.append(tags)"
   ]
  },
  {
   "cell_type": "code",
   "execution_count": 62,
   "metadata": {},
   "outputs": [],
   "source": [
    "def tag_discount_dev():\n",
    "    table = []\n",
    "    for desc in desc_file:\n",
    "        row = []\n",
    "        for tags in tag_file:\n",
    "            d_expo = 0\n",
    "            for tag in tags:\n",
    "                if tag in desc:\n",
    "                    d_expo += 1\n",
    "            row.append(d_expo)\n",
    "        table.append(row)\n",
    "    return table"
   ]
  },
  {
   "cell_type": "code",
   "execution_count": 46,
   "metadata": {},
   "outputs": [],
   "source": [
    "y_dev_pred = ridge_reg.predict(x_dev)"
   ]
  },
  {
   "cell_type": "code",
   "execution_count": 63,
   "metadata": {},
   "outputs": [],
   "source": [
    "discount_expo_table_dev = tag_discount_dev()"
   ]
  },
  {
   "cell_type": "code",
   "execution_count": 70,
   "metadata": {},
   "outputs": [],
   "source": [
    "def discount_table_dev(expo_table, exp_rate=0.8):\n",
    "    table = []\n",
    "    for expo_row in expo_table:\n",
    "        row = []\n",
    "        for expo in expo_row:\n",
    "            row.append(exp_rate**expo)\n",
    "        table.append(row)\n",
    "    return table"
   ]
  },
  {
   "cell_type": "code",
   "execution_count": 73,
   "metadata": {},
   "outputs": [],
   "source": [
    "dist_discount = np.array(discount_table_dev(discount_expo_table_dev, 0.8))"
   ]
  },
  {
   "cell_type": "markdown",
   "metadata": {},
   "source": [
    "### 2. Test out model on development data, computing its MAP@20, and investigating the quality of the rankings"
   ]
  },
  {
   "cell_type": "code",
   "execution_count": 144,
   "metadata": {},
   "outputs": [],
   "source": [
    "def test_model_on_train(model):\n",
    "    y_train_pred = model.predict(x_train)\n",
    "    train_distances = pairwise_distances(y_train, y_train_pred)\n",
    "    train_scores = []\n",
    "    train_pos_list = []\n",
    "\n",
    "    for i in range(num_train):\n",
    "        pred_dist_idx = list(np.argsort(train_distances[i]))\n",
    "        train_pos = pred_dist_idx.index(i)\n",
    "        train_pos_list.append(train_pos)\n",
    "        if train_pos < 20:\n",
    "            train_scores.append(1 / (train_pos + 1))\n",
    "        else:\n",
    "            train_scores.append(0.0)\n",
    "\n",
    "    print(\"Train MAP@20:\", np.mean(train_scores))\n",
    "    print(\"Mean position of true image\", np.mean(train_pos_list))\n",
    "    print(\"Median position of true image\", np.median(train_pos_list))\n",
    "    return train_distances\n",
    "    \n",
    "def test_model_on_dev(model):\n",
    "    y_dev_pred = model.predict(x_dev)\n",
    "    dev_distances = pairwise_distances(y_dev, y_dev_pred) * dist_discount\n",
    "    dev_scores = []\n",
    "    dev_pos_list = []\n",
    "\n",
    "    for i in range(num_dev):\n",
    "        pred_dist_idx = list(np.argsort(dev_distances[i]))\n",
    "        dev_pos = pred_dist_idx.index(i)\n",
    "        dev_pos_list.append(dev_pos)\n",
    "        if dev_pos < 20:\n",
    "            dev_scores.append(1 / (dev_pos + 1))\n",
    "        else:\n",
    "            dev_scores.append(0.0)\n",
    "\n",
    "    print(\"Development MAP@20:\", np.mean(dev_scores))\n",
    "    print(\"Mean position of true image\", np.mean(dev_pos_list))\n",
    "    print(\"Median position of true image\", np.median(dev_pos_list))\n",
    "    return dev_distances"
   ]
  },
  {
   "cell_type": "code",
   "execution_count": 97,
   "metadata": {},
   "outputs": [
    {
     "name": "stdout",
     "output_type": "stream",
     "text": [
      "Train MAP@20: 0.4341711737512144\n",
      "Mean position of true image 21.3235\n",
      "Median position of true image 3.0\n",
      "\n",
      "Development MAP@20: 0.3177371248741798\n",
      "Mean position of true image 17.744\n",
      "Median position of true image 5.0\n"
     ]
    }
   ],
   "source": [
    "# +0.5, alpha=CV, fc\n",
    "train_dist = test_model_on_train(ridge_reg_best)\n",
    "print()\n",
    "dev_dist = test_model_on_dev(ridge_reg_best)"
   ]
  },
  {
   "cell_type": "code",
   "execution_count": 100,
   "metadata": {},
   "outputs": [
    {
     "name": "stdout",
     "output_type": "stream",
     "text": [
      "Train MAP@20: 0.4341711737512144\n",
      "Mean position of true image 21.3235\n",
      "Median position of true image 3.0\n",
      "\n",
      "Development MAP@20: 0.37578227602505854\n",
      "Mean position of true image 13.513\n",
      "Median position of true image 4.0\n"
     ]
    }
   ],
   "source": [
    "# +0.5, alpha=CV, dist_discount, fc\n",
    "train_dist = test_model_on_train(ridge_reg_best)\n",
    "print()\n",
    "dev_dist = test_model_on_dev(ridge_reg_best)"
   ]
  },
  {
   "cell_type": "code",
   "execution_count": 141,
   "metadata": {},
   "outputs": [
    {
     "name": "stdout",
     "output_type": "stream",
     "text": [
      "Train MAP@20: 0.6299895637574284\n",
      "Mean position of true image 9.29025\n",
      "Median position of true image 0.0\n",
      "\n",
      "Development MAP@20: 0.3956479965102837\n",
      "Mean position of true image 12.853\n",
      "Median position of true image 4.0\n"
     ]
    }
   ],
   "source": [
    "# +0.5, alpha=210, dist_discount, pool\n",
    "train_dist = test_model_on_train(ridge_reg)\n",
    "print()\n",
    "dev_dist = test_model_on_dev(ridge_reg)"
   ]
  },
  {
   "cell_type": "code",
   "execution_count": 143,
   "metadata": {},
   "outputs": [
    {
     "name": "stdout",
     "output_type": "stream",
     "text": [
      "Train MAP@20: 0.6299895637574284\n",
      "Mean position of true image 9.29025\n",
      "Median position of true image 0.0\n",
      "\n",
      "Development MAP@20: 0.3956479965102837\n",
      "Mean position of true image 12.853\n",
      "Median position of true image 4.0\n"
     ]
    }
   ],
   "source": [
    "# +0.5, alpha=210, dist_discount, pool\n",
    "train_dist = test_model_on_train(ridge_reg)\n",
    "print()\n",
    "dev_dist = test_model_on_dev(ridge_reg)"
   ]
  },
  {
   "cell_type": "code",
   "execution_count": 10,
   "metadata": {},
   "outputs": [
    {
     "name": "stdout",
     "output_type": "stream",
     "text": [
      "Train MAP@20: 0.6299895637574284\n",
      "Mean position of true image 9.29025\n",
      "Median position of true image 0.0\n",
      "\n",
      "Development MAP@20: 0.3403670830803184\n",
      "Mean position of true image 16.292\n",
      "Median position of true image 5.0\n"
     ]
    }
   ],
   "source": [
    "# +0.5, alpha=210\n",
    "train_dist = test_model_on_train(ridge_reg)\n",
    "print()\n",
    "dev_dist = test_model_on_dev(ridge_reg)"
   ]
  },
  {
   "cell_type": "code",
   "execution_count": 85,
   "metadata": {},
   "outputs": [
    {
     "name": "stdout",
     "output_type": "stream",
     "text": [
      "Train MAP@20: 0.6299895637574284\n",
      "Mean position of true image 9.29025\n",
      "Median position of true image 0.0\n",
      "\n",
      "Development MAP@20: 0.3403670830803184\n",
      "Mean position of true image 16.292\n",
      "Median position of true image 5.0\n"
     ]
    }
   ],
   "source": [
    "# +0.5, alpha=CV\n",
    "train_dist = test_model_on_train(ridge_reg_best)\n",
    "print()\n",
    "dev_dist = test_model_on_dev(ridge_reg_best)"
   ]
  },
  {
   "cell_type": "code",
   "execution_count": 79,
   "metadata": {},
   "outputs": [
    {
     "name": "stdout",
     "output_type": "stream",
     "text": [
      "Train MAP@20: 0.7850865268004054\n",
      "Mean position of true image 3.858375\n",
      "Median position of true image 0.0\n",
      "\n",
      "Development MAP@20: 0.33340503282192524\n",
      "Mean position of true image 18.2465\n",
      "Median position of true image 5.0\n"
     ]
    }
   ],
   "source": [
    "# +0.2, alpha=90\n",
    "train_dist = test_model_on_train(ridge_reg)\n",
    "print()\n",
    "dev_dist = test_model_on_dev(ridge_reg)"
   ]
  },
  {
   "cell_type": "code",
   "execution_count": 74,
   "metadata": {},
   "outputs": [
    {
     "name": "stdout",
     "output_type": "stream",
     "text": [
      "Train MAP@20: 0.7422200892411468\n",
      "Mean position of true image 4.89675\n",
      "Median position of true image 0.0\n",
      "\n",
      "Development MAP@20: 0.34154812759479947\n",
      "Mean position of true image 17.5565\n",
      "Median position of true image 5.0\n"
     ]
    }
   ],
   "source": [
    "# +0.5, alpha=90\n",
    "train_dist = test_model_on_train(ridge_reg)\n",
    "print()\n",
    "dev_dist = test_model_on_dev(ridge_reg)"
   ]
  },
  {
   "cell_type": "code",
   "execution_count": 69,
   "metadata": {},
   "outputs": [
    {
     "name": "stdout",
     "output_type": "stream",
     "text": [
      "Train MAP@20: 0.728070688851697\n",
      "Mean position of true image 5.247875\n",
      "Median position of true image 0.0\n",
      "\n",
      "Development MAP@20: 0.34055813558216813\n",
      "Mean position of true image 17.567\n",
      "Median position of true image 4.5\n"
     ]
    }
   ],
   "source": [
    "# +0.6, alpha=90\n",
    "train_dist = test_model_on_train(ridge_reg)\n",
    "print()\n",
    "dev_dist = test_model_on_dev(ridge_reg)"
   ]
  },
  {
   "cell_type": "code",
   "execution_count": 35,
   "metadata": {},
   "outputs": [
    {
     "name": "stdout",
     "output_type": "stream",
     "text": [
      "Train MAP@20: 0.6828545557705968\n",
      "Mean position of true image 6.5955\n",
      "Median position of true image 0.0\n",
      "\n",
      "Development MAP@20: 0.33738035383733916\n",
      "Mean position of true image 18.1845\n",
      "Median position of true image 5.0\n"
     ]
    }
   ],
   "source": [
    "train_dist = test_model_on_train(ridge_reg)\n",
    "print()\n",
    "dev_dist = test_model_on_dev(ridge_reg)"
   ]
  },
  {
   "cell_type": "code",
   "execution_count": 20,
   "metadata": {},
   "outputs": [
    {
     "name": "stdout",
     "output_type": "stream",
     "text": [
      "Train MAP@20: 0.8159132326667784\n",
      "Mean position of true image 3.18225\n",
      "Median position of true image 0.0\n",
      "\n",
      "Development MAP@20: 0.32316708317052745\n",
      "Mean position of true image 19.8755\n",
      "Median position of true image 5.0\n"
     ]
    }
   ],
   "source": [
    "train_dist = test_model_on_train(ridge_reg)\n",
    "print()\n",
    "dev_dist = test_model_on_dev(ridge_reg)"
   ]
  },
  {
   "cell_type": "code",
   "execution_count": null,
   "metadata": {},
   "outputs": [],
   "source": [
    "# X_data = 'only_fc', 'only_pool', 'fc_pool'\n",
    "# Y_data = 'full_w2v_mean', 'nv_w2v_mean', 'n_w2v_mean', 'av_w2v_mean', \n",
    "#          'BOW_tagEnhanced_1', 'BOW_tagEnhanced_2', 'BOW_tagEnhanced_5'\n",
    "#          'bow_1294', 'bow_4291'"
   ]
  },
  {
   "cell_type": "code",
   "execution_count": 90,
   "metadata": {},
   "outputs": [],
   "source": [
    "def overfit_learner(X_data, Y_data):\n",
    "    x_train_dev = X_dict[X_data]['train_dev']\n",
    "    x_test = X_dict[X_data]['test']\n",
    "    y_train_dev = Y_dict[Y_data]['train_dev']\n",
    "    y_test = Y_dict[Y_data]['test']\n",
    "    x_train = x_train_dev[split_idx[:num_train]]\n",
    "    x_dev = x_train_dev[split_idx[num_train:]]\n",
    "    y_train = y_train_dev[split_idx[:num_train]]\n",
    "    y_dev = y_train_dev[split_idx[ncombum_train:]]\n",
    "    \n",
    "    ridge_reg = Ridge(alpha=90)\n",
    "    ridge_reg.fit(x_train, y_train)\n",
    "    \n",
    "    y_dev_pred = ridge_reg.predict(x_dev)\n",
    "    dev_distances = pairwise_distances(y_dev, y_dev_pred)\n",
    "    dev_scores = []\n",
    "    dev_pos_list = []\n",
    "\n",
    "    for i in range(num_dev):\n",
    "        pred_dist_idx = list(np.argsort(dev_distances[i]))\n",
    "        dev_pos = pred_dist_idx.index(i)\n",
    "        dev_pos_list.append(dev_pos)\n",
    "        if dev_pos < 20:\n",
    "            dev_scores.append(1 / (dev_pos + 1))\n",
    "        else:\n",
    "            dev_scores.append(0.0)\n",
    "    \n",
    "    return dev_distances, np.mean(dev_scores)"
   ]
  },
  {
   "cell_type": "code",
   "execution_count": 122,
   "metadata": {},
   "outputs": [],
   "source": [
    "learner_combination = [('only_pool', 'bow_4291'),('only_pool', 'n_w2v_mean'),('only_pool', 'av_w2v_mean'),\\\n",
    "                      ('only_fc', 'bow_4291'),('only_fc', 'n_w2v_mean'),('only_fc', 'av_w2v_mean')]\n",
    "\n",
    "learners = {}\n",
    "for comb in learner_combination:\n",
    "    dist_matrix, score = overfit_learner(comb[0],comb[1])\n",
    "    learners[comb] = (dist_matrix, score)"
   ]
  },
  {
   "cell_type": "code",
   "execution_count": 125,
   "metadata": {},
   "outputs": [],
   "source": [
    "learner_weight = {}\n",
    "for k,v in learners.items():\n",
    "    learner_weight[k] = v[1]"
   ]
  },
  {
   "cell_type": "code",
   "execution_count": 107,
   "metadata": {},
   "outputs": [
    {
     "name": "stdout",
     "output_type": "stream",
     "text": [
      "Development MAP@20: 0.3600585244691669\n",
      "Mean position of true image 15.89\n",
      "Median position of true image 4.0\n"
     ]
    }
   ],
   "source": [
    "dev_distances = np.zeros((2000, 2000))\n",
    "for result in learners.values():\n",
    "    dev_distances += result[0] * result[1]\n",
    "\n",
    "\n",
    "dev_scores = []\n",
    "dev_pos_list = []\n",
    "\n",
    "for i in range(num_dev):\n",
    "    pred_dist_idx = list(np.argsort(dev_distances[i]))\n",
    "    dev_pos = pred_dist_idx.index(i)\n",
    "    dev_pos_list.append(dev_pos)\n",
    "    if dev_pos < 20:\n",
    "        dev_scores.append(1 / (dev_pos + 1))\n",
    "    else:\n",
    "        dev_scores.append(0.0)\n",
    "\n",
    "print(\"Development MAP@20:\", np.mean(dev_scores))\n",
    "print(\"Mean position of true image\", np.mean(dev_pos_list))\n",
    "print(\"Median position of true image\", np.median(dev_pos_list))"
   ]
  },
  {
   "cell_type": "code",
   "execution_count": null,
   "metadata": {},
   "outputs": [],
   "source": []
  },
  {
   "cell_type": "code",
   "execution_count": null,
   "metadata": {},
   "outputs": [],
   "source": []
  },
  {
   "cell_type": "code",
   "execution_count": null,
   "metadata": {},
   "outputs": [],
   "source": [
    "def inspect_model_performance(image_index, model):\n",
    "    "
   ]
  },
  {
   "cell_type": "code",
   "execution_count": null,
   "metadata": {},
   "outputs": [],
   "source": []
  },
  {
   "cell_type": "markdown",
   "metadata": {},
   "source": [
    "### 4. Finally use a model to compute top-20 predictions on the test data that can be submitted to Kaggle"
   ]
  },
  {
   "cell_type": "code",
   "execution_count": 126,
   "metadata": {},
   "outputs": [],
   "source": [
    "def fullset_learner(X_data, Y_data):\n",
    "    x_train_dev = X_dict[X_data]['train_dev']\n",
    "    x_test = X_dict[X_data]['test']\n",
    "    y_train_dev = Y_dict[Y_data]['train_dev']\n",
    "    y_test = Y_dict[Y_data]['test']\n",
    "    \n",
    "    ridge_reg = Ridge(alpha=90)\n",
    "    ridge_reg.fit(x_train_dev, y_train_dev)\n",
    "    \n",
    "    y_test_pred = ridge_reg.predict(x_test)\n",
    "    dev_distances = pairwise_distances(y_test, y_test_pred)\n",
    "    \n",
    "    return dev_distances"
   ]
  },
  {
   "cell_type": "code",
   "execution_count": 127,
   "metadata": {},
   "outputs": [],
   "source": [
    "learner_combination = [('only_pool', 'bow_4291'),('only_pool', 'n_w2v_mean'),('only_pool', 'av_w2v_mean'),\\\n",
    "                      ('only_fc', 'bow_4291'),('only_fc', 'n_w2v_mean'),('only_fc', 'av_w2v_mean')]\n",
    "\n",
    "test_dist = {}\n",
    "for comb in learner_combination:\n",
    "    if comb[1]!='av_w2v_mean':\n",
    "        dist_matrix = fullset_learner(comb[0],comb[1])\n",
    "        test_dist[comb] = dist_matrix"
   ]
  },
  {
   "cell_type": "code",
   "execution_count": 129,
   "metadata": {},
   "outputs": [],
   "source": [
    "test_distances = np.zeros((2000, 2000))\n",
    "for comb in learner_combination:\n",
    "    if comb[1]!='av_w2v_mean':\n",
    "        test_distances += test_dist[comb] * learner_weight[comb]"
   ]
  },
  {
   "cell_type": "code",
   "execution_count": 130,
   "metadata": {},
   "outputs": [
    {
     "data": {
      "text/plain": [
       "array([[5.53844671, 5.63639348, 5.40675457, ..., 5.48945771, 5.91745964,\n",
       "        6.32867515],\n",
       "       [5.61504727, 5.61525129, 5.71905203, ..., 5.63511242, 5.73045421,\n",
       "        4.98068698],\n",
       "       [3.92571399, 4.13838268, 3.68707737, ..., 3.79472255, 3.94624768,\n",
       "        4.81389516],\n",
       "       ...,\n",
       "       [3.80531132, 4.27495197, 3.91405698, ..., 3.89063719, 4.38231861,\n",
       "        4.04416667],\n",
       "       [4.27510325, 4.78701014, 4.38586372, ..., 4.49792071, 4.90364611,\n",
       "        5.20709396],\n",
       "       [4.09080414, 3.67006583, 3.65421024, ..., 3.93422112, 4.33886528,\n",
       "        4.55403355]])"
      ]
     },
     "execution_count": 130,
     "metadata": {},
     "output_type": "execute_result"
    }
   ],
   "source": [
    "test_distances"
   ]
  },
  {
   "cell_type": "code",
   "execution_count": 131,
   "metadata": {},
   "outputs": [
    {
     "name": "stdout",
     "output_type": "stream",
     "text": [
      "Output written!\n"
     ]
    }
   ],
   "source": [
    "pred_rows = []\n",
    "\n",
    "for i in range(num_test):\n",
    "    test_dist_idx = list(np.argsort(test_distances[i]))\n",
    "    top_20 = test_dist_idx[:20]\n",
    "    row = [\"%d.jpg\" % i for i in test_dist_idx[:20]]\n",
    "    pred_rows.append(\" \".join(row))\n",
    "\n",
    "with open(\"ojbk_submission.csv\", \"w\") as f:\n",
    "    f.write(\"Descritpion_ID,Top_20_Image_IDs\\n\")\n",
    "    for i, row in enumerate(pred_rows):\n",
    "        f.write(\"%d.txt,%s\\n\" % (i, row))\n",
    "\n",
    "print(\"Output written!\")"
   ]
  },
  {
   "cell_type": "code",
   "execution_count": null,
   "metadata": {},
   "outputs": [],
   "source": []
  },
  {
   "cell_type": "code",
   "execution_count": 16,
   "metadata": {},
   "outputs": [
    {
     "data": {
      "text/plain": [
       "(2000, 800)"
      ]
     },
     "execution_count": 16,
     "metadata": {},
     "output_type": "execute_result"
    }
   ],
   "source": [
    "y_test.shape"
   ]
  },
  {
   "cell_type": "code",
   "execution_count": 25,
   "metadata": {},
   "outputs": [],
   "source": [
    "# create test predictions\n",
    "def output_submission(model):\n",
    "    x_train_all = np.concatenate([x_train, x_dev])\n",
    "    y_train_all = np.concatenate([y_train, y_dev])\n",
    "    model.fit(x_train_all, y_train_all)\n",
    "    y_test_pred = model.predict(x_test)\n",
    "    test_distances = pairwise_distances(y_test, y_test_pred)\n",
    "    pred_rows = []\n",
    "\n",
    "    for i in range(num_test):\n",
    "        test_dist_idx = list(np.argsort(test_distances[i]))\n",
    "        top_20 = test_dist_idx[:20]\n",
    "        row = [\"%d.jpg\" % i for i in test_dist_idx[:20]]\n",
    "        pred_rows.append(\" \".join(row))\n",
    "\n",
    "    with open(\"test_submission.csv\", \"w\") as f:\n",
    "        f.write(\"Descritpion_ID,Top_20_Image_IDs\\n\")\n",
    "        for i, row in enumerate(pred_rows):\n",
    "            f.write(\"%d.txt,%s\\n\" % (i, row))\n",
    "\n",
    "    print(\"Output written!\")"
   ]
  },
  {
   "cell_type": "code",
   "execution_count": 27,
   "metadata": {},
   "outputs": [
    {
     "name": "stdout",
     "output_type": "stream",
     "text": [
      "Output written!\n"
     ]
    }
   ],
   "source": [
    "output_submission(ridge_reg)"
   ]
  },
  {
   "cell_type": "markdown",
   "metadata": {},
   "source": [
    "### Discount"
   ]
  },
  {
   "cell_type": "code",
   "execution_count": 78,
   "metadata": {},
   "outputs": [],
   "source": [
    "desc_file_test = []\n",
    "for desc_file_index in range(2000):\n",
    "    # find description\n",
    "    with open(data_dir+'descriptions_test/'+str(desc_file_index)+'.txt') as f:\n",
    "        desc_file_test.append(f.read().lower().replace(',',' ').replace('.',' ').replace('\\n','').split(' '))\n",
    "\n",
    "tag_file_test = []\n",
    "for tag_file_index in range(2000):\n",
    "    with open(data_dir+'tags_test/'+str(tag_file_index)+'.txt') as f:\n",
    "        tag_txt = f.read()\n",
    "    tags = []\n",
    "    for word in list(pair[pair.find(':')+1:] for pair in tag_txt.split('\\n')[:-1]):\n",
    "        tags += word.split(' ')\n",
    "    tag_file_test.append(tags)"
   ]
  },
  {
   "cell_type": "code",
   "execution_count": 81,
   "metadata": {},
   "outputs": [],
   "source": [
    "def tag_discount_test():\n",
    "    table = []\n",
    "    for desc in desc_file_test:\n",
    "        row = []\n",
    "        for tags in tag_file_test:\n",
    "            d_expo = 0\n",
    "            for tag in tags:\n",
    "                if tag in desc:\n",
    "                    d_expo += 1\n",
    "            row.append(d_expo)\n",
    "        table.append(row)\n",
    "    return table"
   ]
  },
  {
   "cell_type": "code",
   "execution_count": 82,
   "metadata": {},
   "outputs": [],
   "source": [
    "discount_expo_table_test = tag_discount_test()"
   ]
  },
  {
   "cell_type": "code",
   "execution_count": 84,
   "metadata": {},
   "outputs": [],
   "source": [
    "def discount_table_dev(expo_table, exp_rate=0.8):\n",
    "    table = []\n",
    "    for expo_row in expo_table:\n",
    "        row = []\n",
    "        for expo in expo_row:\n",
    "            row.append(exp_rate**expo)\n",
    "        table.append(row)\n",
    "    return table"
   ]
  },
  {
   "cell_type": "code",
   "execution_count": 85,
   "metadata": {},
   "outputs": [],
   "source": [
    "dist_discount_test = np.array(discount_table_dev(discount_expo_table_test, 0.8))"
   ]
  },
  {
   "cell_type": "code",
   "execution_count": 86,
   "metadata": {},
   "outputs": [],
   "source": [
    "# create test predictions\n",
    "def output_submission(model):\n",
    "    x_train_all = np.concatenate([x_train, x_dev])\n",
    "    y_train_all = np.concatenate([y_train, y_dev])\n",
    "    model.fit(x_train_all, y_train_all)\n",
    "    y_test_pred = model.predict(x_test)\n",
    "    test_distances = pairwise_distances(y_test, y_test_pred) * dist_discount_test\n",
    "    pred_rows = []\n",
    "\n",
    "    for i in range(num_test):\n",
    "        test_dist_idx = list(np.argsort(test_distances[i]))\n",
    "        top_20 = test_dist_idx[:20]\n",
    "        row = [\"%d.jpg\" % i for i in test_dist_idx[:20]]\n",
    "        pred_rows.append(\" \".join(row))\n",
    "\n",
    "    with open(\"discount_submission.csv\", \"w\") as f:\n",
    "        f.write(\"Descritpion_ID,Top_20_Image_IDs\\n\")\n",
    "        for i, row in enumerate(pred_rows):\n",
    "            f.write(\"%d.txt,%s\\n\" % (i, row))\n",
    "\n",
    "    print(\"Output written!\")"
   ]
  },
  {
   "cell_type": "code",
   "execution_count": null,
   "metadata": {},
   "outputs": [],
   "source": [
    "output_submission(ridge_reg)"
   ]
  },
  {
   "cell_type": "code",
   "execution_count": 89,
   "metadata": {},
   "outputs": [],
   "source": [
    "x_train_all = np.concatenate([x_train, x_dev])\n",
    "y_train_all = np.concatenate([y_train, y_dev])\n",
    "ridge_reg.fit(x_train_all, y_train_all)\n",
    "y_test_pred = ridge_reg.predict(x_test)\n",
    "pool_test_distances = pairwise_distances(y_test, y_test_pred) * dist_discount_test"
   ]
  },
  {
   "cell_type": "code",
   "execution_count": 102,
   "metadata": {},
   "outputs": [],
   "source": [
    "x_train_all = np.concatenate([x_train, x_dev])\n",
    "y_train_all = np.concatenate([y_train, y_dev])\n",
    "ridge_reg_best.fit(x_train_all, y_train_all)\n",
    "y_test_pred = ridge_reg_best.predict(x_test)\n",
    "fc_test_distances = pairwise_distances(y_test, y_test_pred) * dist_discount_test"
   ]
  },
  {
   "cell_type": "code",
   "execution_count": 111,
   "metadata": {},
   "outputs": [],
   "source": [
    "ensemble_test_distances = pool_test_distances*0.6702 + fc_test_distances*0.3757"
   ]
  },
  {
   "cell_type": "code",
   "execution_count": 112,
   "metadata": {},
   "outputs": [],
   "source": [
    "ensemble_test_distances = ensemble_test_distances * dist_discount_test"
   ]
  },
  {
   "cell_type": "code",
   "execution_count": 113,
   "metadata": {},
   "outputs": [
    {
     "name": "stdout",
     "output_type": "stream",
     "text": [
      "Output written!\n"
     ]
    }
   ],
   "source": [
    "pred_rows = []\n",
    "\n",
    "for i in range(num_test):\n",
    "    test_dist_idx = list(np.argsort(ensemble_test_distances[i]))\n",
    "    top_20 = test_dist_idx[:20]\n",
    "    row = [\"%d.jpg\" % i for i in test_dist_idx[:20]]\n",
    "    pred_rows.append(\" \".join(row))\n",
    "\n",
    "with open(\"ensemble_discount_submission.csv\", \"w\") as f:\n",
    "    f.write(\"Descritpion_ID,Top_20_Image_IDs\\n\")\n",
    "    for i, row in enumerate(pred_rows):\n",
    "        f.write(\"%d.txt,%s\\n\" % (i, row))\n",
    "\n",
    "print(\"Output written!\")"
   ]
  },
  {
   "cell_type": "code",
   "execution_count": 1,
   "metadata": {},
   "outputs": [
    {
     "data": {
      "text/plain": [
       "0.9248717100187196"
      ]
     },
     "execution_count": 1,
     "metadata": {},
     "output_type": "execute_result"
    }
   ],
   "source": [
    "0.8 / 0.8**0.65"
   ]
  },
  {
   "cell_type": "code",
   "execution_count": 2,
   "metadata": {},
   "outputs": [
    {
     "ename": "NameError",
     "evalue": "name 'pool_test_distances' is not defined",
     "output_type": "error",
     "traceback": [
      "\u001b[0;31m---------------------------------------------------------------------------\u001b[0m",
      "\u001b[0;31mNameError\u001b[0m                                 Traceback (most recent call last)",
      "\u001b[0;32m<ipython-input-2-d442b0f924ee>\u001b[0m in \u001b[0;36m<module>\u001b[0;34m()\u001b[0m\n\u001b[0;32m----> 1\u001b[0;31m \u001b[0mpool_test_distances_maga\u001b[0m \u001b[0;34m=\u001b[0m \u001b[0mpool_test_distances\u001b[0m \u001b[0;34m/\u001b[0m \u001b[0mdist_discount_test\u001b[0m\u001b[0;34m**\u001b[0m\u001b[0;36m0.65\u001b[0m\u001b[0;34m\u001b[0m\u001b[0m\n\u001b[0m\u001b[1;32m      2\u001b[0m \u001b[0mpred_rows\u001b[0m \u001b[0;34m=\u001b[0m \u001b[0;34m[\u001b[0m\u001b[0;34m]\u001b[0m\u001b[0;34m\u001b[0m\u001b[0m\n\u001b[1;32m      3\u001b[0m \u001b[0;34m\u001b[0m\u001b[0m\n\u001b[1;32m      4\u001b[0m \u001b[0;32mfor\u001b[0m \u001b[0mi\u001b[0m \u001b[0;32min\u001b[0m \u001b[0mrange\u001b[0m\u001b[0;34m(\u001b[0m\u001b[0mnum_test\u001b[0m\u001b[0;34m)\u001b[0m\u001b[0;34m:\u001b[0m\u001b[0;34m\u001b[0m\u001b[0m\n\u001b[1;32m      5\u001b[0m     \u001b[0mtest_dist_idx\u001b[0m \u001b[0;34m=\u001b[0m \u001b[0mlist\u001b[0m\u001b[0;34m(\u001b[0m\u001b[0mnp\u001b[0m\u001b[0;34m.\u001b[0m\u001b[0margsort\u001b[0m\u001b[0;34m(\u001b[0m\u001b[0mpool_test_distances_maga\u001b[0m\u001b[0;34m[\u001b[0m\u001b[0mi\u001b[0m\u001b[0;34m]\u001b[0m\u001b[0;34m)\u001b[0m\u001b[0;34m)\u001b[0m\u001b[0;34m\u001b[0m\u001b[0m\n",
      "\u001b[0;31mNameError\u001b[0m: name 'pool_test_distances' is not defined"
     ]
    }
   ],
   "source": [
    "pool_test_distances_maga = pool_test_distances / dist_discount_test**0.65\n",
    "pred_rows = []\n",
    "\n",
    "for i in range(num_test):\n",
    "    test_dist_idx = list(np.argsort(pool_test_distances_maga[i]))\n",
    "    top_20 = test_dist_idx[:20]\n",
    "    row = [\"%d.jpg\" % i for i in test_dist_idx[:20]]\n",
    "    pred_rows.append(\" \".join(row))\n",
    "\n",
    "with open(\"pool_discount_maga_submission.csv\", \"w\") as f:\n",
    "    f.write(\"Descritpion_ID,Top_20_Image_IDs\\n\")\n",
    "    for i, row in enumerate(pred_rows):\n",
    "        f.write(\"%d.txt,%s\\n\" % (i, row))\n",
    "\n",
    "print(\"Output written!\")"
   ]
  }
 ],
 "metadata": {
  "kernelspec": {
   "display_name": "Python 3",
   "language": "python",
   "name": "python3"
  },
  "language_info": {
   "codemirror_mode": {
    "name": "ipython",
    "version": 3
   },
   "file_extension": ".py",
   "mimetype": "text/x-python",
   "name": "python",
   "nbconvert_exporter": "python",
   "pygments_lexer": "ipython3",
   "version": "3.7.0"
  }
 },
 "nbformat": 4,
 "nbformat_minor": 2
}
